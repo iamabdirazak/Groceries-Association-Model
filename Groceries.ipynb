{
 "cells": [
  {
   "cell_type": "markdown",
   "id": "f39dac94",
   "metadata": {},
   "source": [
    "### 1. Import Dependencies"
   ]
  },
  {
   "cell_type": "code",
   "execution_count": 2,
   "id": "62800643",
   "metadata": {},
   "outputs": [],
   "source": [
    "import pandas as pd"
   ]
  },
  {
   "cell_type": "markdown",
   "id": "c52f0cb9",
   "metadata": {},
   "source": [
    "### 2. Load Dataset"
   ]
  },
  {
   "cell_type": "code",
   "execution_count": null,
   "id": "9df4c68b",
   "metadata": {},
   "outputs": [],
   "source": [
    "df = pd.read_csv('groceries.csv', on_bad_lines='skip') # Read the CSV file, skipping bad lines"
   ]
  },
  {
   "cell_type": "code",
   "execution_count": 8,
   "id": "cf39205a",
   "metadata": {},
   "outputs": [
    {
     "name": "stdout",
     "output_type": "stream",
     "text": [
      "raw df shape: (6105, 4)\n"
     ]
    }
   ],
   "source": [
    "print(\"raw df shape:\", df.shape)"
   ]
  },
  {
   "cell_type": "code",
   "execution_count": 9,
   "id": "4d78041a",
   "metadata": {},
   "outputs": [
    {
     "name": "stdout",
     "output_type": "stream",
     "text": [
      "raw df columns preview: ['citrus fruit', 'semi-finished bread', 'margarine', 'ready soups']\n"
     ]
    },
    {
     "data": {
      "application/vnd.microsoft.datawrangler.viewer.v0+json": {
       "columns": [
        {
         "name": "index",
         "rawType": "int64",
         "type": "integer"
        },
        {
         "name": "citrus fruit",
         "rawType": "object",
         "type": "string"
        },
        {
         "name": "semi-finished bread",
         "rawType": "object",
         "type": "unknown"
        },
        {
         "name": "margarine",
         "rawType": "object",
         "type": "unknown"
        },
        {
         "name": "ready soups",
         "rawType": "object",
         "type": "unknown"
        }
       ],
       "ref": "2033280e-7173-4a40-9236-b5894d5e6094",
       "rows": [
        [
         "0",
         "tropical fruit",
         "yogurt",
         "coffee",
         null
        ],
        [
         "1",
         "whole milk",
         null,
         null,
         null
        ],
        [
         "2",
         "pip fruit",
         "yogurt",
         "cream cheese ",
         "meat spreads"
        ],
        [
         "3",
         "other vegetables",
         "whole milk",
         "condensed milk",
         "long life bakery product"
        ],
        [
         "4",
         "rolls/buns",
         null,
         null,
         null
        ],
        [
         "5",
         "pot plants",
         null,
         null,
         null
        ],
        [
         "6",
         "whole milk",
         "cereals",
         null,
         null
        ],
        [
         "7",
         "beef",
         null,
         null,
         null
        ],
        [
         "8",
         "frankfurter",
         "rolls/buns",
         "soda",
         null
        ],
        [
         "9",
         "chicken",
         "tropical fruit",
         null,
         null
        ]
       ],
       "shape": {
        "columns": 4,
        "rows": 10
       }
      },
      "text/html": [
       "<div>\n",
       "<style scoped>\n",
       "    .dataframe tbody tr th:only-of-type {\n",
       "        vertical-align: middle;\n",
       "    }\n",
       "\n",
       "    .dataframe tbody tr th {\n",
       "        vertical-align: top;\n",
       "    }\n",
       "\n",
       "    .dataframe thead th {\n",
       "        text-align: right;\n",
       "    }\n",
       "</style>\n",
       "<table border=\"1\" class=\"dataframe\">\n",
       "  <thead>\n",
       "    <tr style=\"text-align: right;\">\n",
       "      <th></th>\n",
       "      <th>citrus fruit</th>\n",
       "      <th>semi-finished bread</th>\n",
       "      <th>margarine</th>\n",
       "      <th>ready soups</th>\n",
       "    </tr>\n",
       "  </thead>\n",
       "  <tbody>\n",
       "    <tr>\n",
       "      <th>0</th>\n",
       "      <td>tropical fruit</td>\n",
       "      <td>yogurt</td>\n",
       "      <td>coffee</td>\n",
       "      <td>NaN</td>\n",
       "    </tr>\n",
       "    <tr>\n",
       "      <th>1</th>\n",
       "      <td>whole milk</td>\n",
       "      <td>NaN</td>\n",
       "      <td>NaN</td>\n",
       "      <td>NaN</td>\n",
       "    </tr>\n",
       "    <tr>\n",
       "      <th>2</th>\n",
       "      <td>pip fruit</td>\n",
       "      <td>yogurt</td>\n",
       "      <td>cream cheese</td>\n",
       "      <td>meat spreads</td>\n",
       "    </tr>\n",
       "    <tr>\n",
       "      <th>3</th>\n",
       "      <td>other vegetables</td>\n",
       "      <td>whole milk</td>\n",
       "      <td>condensed milk</td>\n",
       "      <td>long life bakery product</td>\n",
       "    </tr>\n",
       "    <tr>\n",
       "      <th>4</th>\n",
       "      <td>rolls/buns</td>\n",
       "      <td>NaN</td>\n",
       "      <td>NaN</td>\n",
       "      <td>NaN</td>\n",
       "    </tr>\n",
       "    <tr>\n",
       "      <th>5</th>\n",
       "      <td>pot plants</td>\n",
       "      <td>NaN</td>\n",
       "      <td>NaN</td>\n",
       "      <td>NaN</td>\n",
       "    </tr>\n",
       "    <tr>\n",
       "      <th>6</th>\n",
       "      <td>whole milk</td>\n",
       "      <td>cereals</td>\n",
       "      <td>NaN</td>\n",
       "      <td>NaN</td>\n",
       "    </tr>\n",
       "    <tr>\n",
       "      <th>7</th>\n",
       "      <td>beef</td>\n",
       "      <td>NaN</td>\n",
       "      <td>NaN</td>\n",
       "      <td>NaN</td>\n",
       "    </tr>\n",
       "    <tr>\n",
       "      <th>8</th>\n",
       "      <td>frankfurter</td>\n",
       "      <td>rolls/buns</td>\n",
       "      <td>soda</td>\n",
       "      <td>NaN</td>\n",
       "    </tr>\n",
       "    <tr>\n",
       "      <th>9</th>\n",
       "      <td>chicken</td>\n",
       "      <td>tropical fruit</td>\n",
       "      <td>NaN</td>\n",
       "      <td>NaN</td>\n",
       "    </tr>\n",
       "  </tbody>\n",
       "</table>\n",
       "</div>"
      ],
      "text/plain": [
       "       citrus fruit semi-finished bread       margarine  \\\n",
       "0    tropical fruit              yogurt          coffee   \n",
       "1        whole milk                 NaN             NaN   \n",
       "2         pip fruit              yogurt   cream cheese    \n",
       "3  other vegetables          whole milk  condensed milk   \n",
       "4        rolls/buns                 NaN             NaN   \n",
       "5        pot plants                 NaN             NaN   \n",
       "6        whole milk             cereals             NaN   \n",
       "7              beef                 NaN             NaN   \n",
       "8       frankfurter          rolls/buns            soda   \n",
       "9           chicken      tropical fruit             NaN   \n",
       "\n",
       "                ready soups  \n",
       "0                       NaN  \n",
       "1                       NaN  \n",
       "2              meat spreads  \n",
       "3  long life bakery product  \n",
       "4                       NaN  \n",
       "5                       NaN  \n",
       "6                       NaN  \n",
       "7                       NaN  \n",
       "8                       NaN  \n",
       "9                       NaN  "
      ]
     },
     "metadata": {},
     "output_type": "display_data"
    }
   ],
   "source": [
    "print(\"raw df columns preview:\", list(df.columns)[:10])\n",
    "display(df.head(10))"
   ]
  },
  {
   "cell_type": "code",
   "execution_count": 10,
   "id": "afd70b1e",
   "metadata": {},
   "outputs": [],
   "source": [
    "def normalize_item(s):\n",
    "    return s.strip().lower()"
   ]
  },
  {
   "cell_type": "code",
   "execution_count": 13,
   "id": "a89a3c05",
   "metadata": {},
   "outputs": [
    {
     "name": "stdout",
     "output_type": "stream",
     "text": [
      "Detected multi-column CSV. Columns (lowercased): ['citrus fruit', 'semi-finished bread', 'margarine', 'ready soups']\n",
      "possible tx cols: [] possible customer cols: [] possible item cols: []\n",
      "Could not confidently detect transaction structure — falling back to join non-null columns per row.\n"
     ]
    }
   ],
   "source": [
    "# CASE A: single-column where each row is comma-separated item list\n",
    "if df.shape[1] == 1:\n",
    "    print(\"Detected single-column (one transaction per row). Parsing comma-separated items.\")\n",
    "    transactions = df[0].dropna().astype(str).apply(\n",
    "        lambda x: [normalize_item(i) for i in x.split(',') if i.strip() != \"\"]\n",
    "    ).tolist()\n",
    "    # CASE B: long format (one item per row) with transaction/customer id columns\n",
    "else:\n",
    "    cols = [str(c).lower() for c in df.columns]\n",
    "    print(\"Detected multi-column CSV. Columns (lowercased):\", cols)\n",
    "    # try to find common column names\n",
    "    tx_cols = [c for c in df.columns if any(k in str(c).lower() for k in ['transaction','trans','invoice','order','receipt','id'])]\n",
    "    cust_cols = [c for c in df.columns if any(k in str(c).lower() for k in ['member','customer','cust','user'])]\n",
    "    item_cols = [c for c in df.columns if any(k in str(c).lower() for k in ['item','product','description','itemdescription','productdescription'])]\n",
    "    print(\"possible tx cols:\", tx_cols, \"possible customer cols:\", cust_cols, \"possible item cols:\", item_cols)\n",
    "\n",
    "    if tx_cols and item_cols:\n",
    "        tx_col = tx_cols[0]\n",
    "        item_col = item_cols[0]\n",
    "        grouped = df[[tx_col, item_col]].dropna()\n",
    "        transactions = grouped.groupby(tx_col)[item_col].apply(\n",
    "            lambda x: [normalize_item(str(i)) for i in x]\n",
    "        ).tolist()\n",
    "    elif cust_cols and 'date' in cols and item_cols:\n",
    "        # common Kaggle long-format: Member_number, Date, itemDescription\n",
    "        tx_key = [cust_cols[0], [c for c in df.columns if 'date' in str(c).lower()][0]]\n",
    "        item_col = item_cols[0]\n",
    "        grouped = df.groupby([cust_cols[0], tx_key[1]])[item_col].apply(lambda x: [normalize_item(str(i)) for i in x])\n",
    "        transactions = grouped.tolist()\n",
    "    else:\n",
    "        # fallback: try treat each row as transaction by joining all non-null columns\n",
    "        print(\"Could not confidently detect transaction structure — falling back to join non-null columns per row.\")\n",
    "        transactions = df.fillna('').astype(str).apply(lambda r: [normalize_item(x) for x in r.tolist() if x.strip()!=''], axis=1).tolist()"
   ]
  },
  {
   "cell_type": "code",
   "execution_count": 14,
   "id": "ceaa011e",
   "metadata": {},
   "outputs": [
    {
     "name": "stdout",
     "output_type": "stream",
     "text": [
      "\n",
      "Parsed transactions: 6105\n",
      "Unique items (parsed): 165\n",
      "Top 20 items by frequency:\n"
     ]
    },
    {
     "name": "stderr",
     "output_type": "stream",
     "text": [
      "/var/folders/7c/gq0bcsjx4z5518py08krjc880000gn/T/ipykernel_37705/1909183862.py:5: FutureWarning: unique with argument that is not not a Series, Index, ExtensionArray, or np.ndarray is deprecated and will raise in a future version.\n",
      "  transactions = [[itm for itm in pd.unique(tx)] for tx in transactions if len(tx) > 0]\n"
     ]
    }
   ],
   "source": [
    "# final basic clean: remove empty tx and remove duplicates within transaction (presence-only)\n",
    "from collections import Counter\n",
    "\n",
    "\n",
    "transactions = [[itm for itm in pd.unique(tx)] for tx in transactions if len(tx) > 0]\n",
    "\n",
    "# Summaries\n",
    "n_transactions = len(transactions)\n",
    "all_items = [i for tx in transactions for i in tx]\n",
    "unique_items = set(all_items)\n",
    "freq = Counter(all_items)\n",
    "\n",
    "print(f\"\\nParsed transactions: {n_transactions}\")\n",
    "print(f\"Unique items (parsed): {len(unique_items)}\")\n",
    "print(\"Top 20 items by frequency:\")\n"
   ]
  },
  {
   "cell_type": "code",
   "execution_count": null,
   "id": "e3433aaa",
   "metadata": {},
   "outputs": [
    {
     "name": "stdout",
     "output_type": "stream",
     "text": [
      "  whole milk: 859\n",
      "  soda: 773\n",
      "  rolls/buns: 770\n",
      "  other vegetables: 531\n",
      "  canned beer: 502\n",
      "  bottled water: 406\n",
      "  bottled beer: 406\n",
      "  yogurt: 384\n",
      "  pastry: 308\n",
      "  newspapers: 296\n",
      "  shopping bags: 296\n",
      "  sausage: 294\n",
      "  tropical fruit: 243\n",
      "  root vegetables: 227\n",
      "  citrus fruit: 207\n",
      "  coffee: 206\n",
      "  brown bread: 195\n",
      "  pip fruit: 189\n",
      "  fruit/vegetable juice: 186\n",
      "  frankfurter: 176\n"
     ]
    }
   ],
   "source": [
    "# Display top 20 items by frequency\n",
    "for item, cnt in freq.most_common(20):\n",
    "    print(f\"  {item}: {cnt}\")"
   ]
  },
  {
   "cell_type": "code",
   "execution_count": 18,
   "id": "b035fa8b",
   "metadata": {},
   "outputs": [
    {
     "name": "stdout",
     "output_type": "stream",
     "text": [
      "\n",
      "Items that appear exactly once:\n",
      "  salad dressing\n",
      "  toilet cleaner\n",
      "  kitchen utensil\n",
      "  ready soups\n"
     ]
    }
   ],
   "source": [
    "# Rare items\n",
    "rare_items = [item for item, c in freq.items() if c == 1]\n",
    "\n",
    "# show items that apear once by name\n",
    "print(\"\\nItems that appear exactly once:\")\n",
    "for item in rare_items:\n",
    "    print(f\"  {item}\")"
   ]
  },
  {
   "cell_type": "code",
   "execution_count": 19,
   "id": "97cd553c",
   "metadata": {},
   "outputs": [
    {
     "name": "stdout",
     "output_type": "stream",
     "text": [
      "\n",
      "Sample parsed transactions (first 5):\n",
      "1 ['tropical fruit', 'yogurt', 'coffee']\n",
      "2 ['whole milk']\n",
      "3 ['pip fruit', 'yogurt', 'cream cheese', 'meat spreads']\n",
      "4 ['other vegetables', 'whole milk', 'condensed milk', 'long life bakery product']\n",
      "5 ['rolls/buns']\n"
     ]
    }
   ],
   "source": [
    "# show 5 sample transactions\n",
    "print(\"\\nSample parsed transactions (first 5):\")\n",
    "for i, tx in enumerate(transactions[:5], 1):\n",
    "    print(i, tx)"
   ]
  },
  {
   "cell_type": "markdown",
   "id": "8adc9e81",
   "metadata": {},
   "source": [
    "### 3. Data Cleaning"
   ]
  },
  {
   "cell_type": "code",
   "execution_count": 20,
   "id": "37a5d797",
   "metadata": {},
   "outputs": [],
   "source": [
    "# 1. Normalize item names\n",
    "import re\n",
    "\n",
    "def normalize_item(name):\n",
    "    name = name.lower().strip()\n",
    "    name = re.sub(r'\\s+', ' ', name)  # collapse spaces\n",
    "    name = re.sub(r'[-_]', ' ', name) # replace - and _ with spaces\n",
    "    # Optional: common corrections\n",
    "    corrections = {\n",
    "        'bananas': 'banana',\n",
    "        'apples': 'apple',\n",
    "        'milk 1 l': 'milk 1l',\n",
    "    }\n",
    "    return corrections.get(name, name)\n",
    "\n",
    "transactions_cleaned = [\n",
    "    [normalize_item(item) for item in t] \n",
    "    for t in transactions\n",
    "]"
   ]
  },
  {
   "cell_type": "code",
   "execution_count": 21,
   "id": "07f8f23e",
   "metadata": {},
   "outputs": [],
   "source": [
    "# 2. Drop low-frequency items\n",
    "from collections import Counter\n",
    "\n",
    "all_items = [item for t in transactions_cleaned for item in t]\n",
    "item_counts = Counter(all_items)\n",
    "min_freq = 3  # keep items appearing at least 3 times\n",
    "transactions_filtered = [\n",
    "    [item for item in t if item_counts[item] >= min_freq]\n",
    "    for t in transactions_cleaned\n",
    "]"
   ]
  },
  {
   "cell_type": "code",
   "execution_count": 22,
   "id": "0d68c016",
   "metadata": {},
   "outputs": [
    {
     "name": "stdout",
     "output_type": "stream",
     "text": [
      "Transactions before: 6105\n",
      "Transactions after cleaning: 3946\n"
     ]
    }
   ],
   "source": [
    "# 3. Remove empty/singleton transactions\n",
    "transactions_final = [t for t in transactions_filtered if len(t) > 1]\n",
    "\n",
    "print(f\"Transactions before: {len(transactions)}\")\n",
    "print(f\"Transactions after cleaning: {len(transactions_final)}\")\n"
   ]
  },
  {
   "cell_type": "code",
   "execution_count": 23,
   "id": "3218b9f8",
   "metadata": {},
   "outputs": [
    {
     "data": {
      "text/plain": [
       "[('whole milk', 738),\n",
       " ('rolls/buns', 661),\n",
       " ('soda', 617),\n",
       " ('other vegetables', 469),\n",
       " ('yogurt', 344),\n",
       " ('bottled water', 339),\n",
       " ('bottled beer', 286),\n",
       " ('pastry', 271),\n",
       " ('sausage', 270),\n",
       " ('shopping bags', 248),\n",
       " ('newspapers', 242),\n",
       " ('canned beer', 242),\n",
       " ('tropical fruit', 220),\n",
       " ('root vegetables', 202),\n",
       " ('citrus fruit', 191),\n",
       " ('brown bread', 175),\n",
       " ('coffee', 167),\n",
       " ('frankfurter', 165),\n",
       " ('fruit/vegetable juice', 164),\n",
       " ('pip fruit', 161)]"
      ]
     },
     "execution_count": 23,
     "metadata": {},
     "output_type": "execute_result"
    }
   ],
   "source": [
    "# Inspect top items after cleaning\n",
    "from collections import Counter\n",
    "top_items_after = Counter([i for t in transactions_final for i in t]).most_common(20)\n",
    "top_items_after"
   ]
  },
  {
   "cell_type": "markdown",
   "id": "cdfbb136",
   "metadata": {},
   "source": [
    "### 4. Data Transformation"
   ]
  },
  {
   "cell_type": "code",
   "execution_count": 24,
   "id": "341daf4b",
   "metadata": {},
   "outputs": [
    {
     "data": {
      "application/vnd.microsoft.datawrangler.viewer.v0+json": {
       "columns": [
        {
         "name": "index",
         "rawType": "int64",
         "type": "integer"
        },
        {
         "name": "abrasive cleaner",
         "rawType": "bool",
         "type": "boolean"
        },
        {
         "name": "artif. sweetener",
         "rawType": "bool",
         "type": "boolean"
        },
        {
         "name": "baking powder",
         "rawType": "bool",
         "type": "boolean"
        },
        {
         "name": "bathroom cleaner",
         "rawType": "bool",
         "type": "boolean"
        },
        {
         "name": "beef",
         "rawType": "bool",
         "type": "boolean"
        },
        {
         "name": "berries",
         "rawType": "bool",
         "type": "boolean"
        },
        {
         "name": "beverages",
         "rawType": "bool",
         "type": "boolean"
        },
        {
         "name": "bottled beer",
         "rawType": "bool",
         "type": "boolean"
        },
        {
         "name": "bottled water",
         "rawType": "bool",
         "type": "boolean"
        },
        {
         "name": "brandy",
         "rawType": "bool",
         "type": "boolean"
        },
        {
         "name": "brown bread",
         "rawType": "bool",
         "type": "boolean"
        },
        {
         "name": "butter",
         "rawType": "bool",
         "type": "boolean"
        },
        {
         "name": "butter milk",
         "rawType": "bool",
         "type": "boolean"
        },
        {
         "name": "cake bar",
         "rawType": "bool",
         "type": "boolean"
        },
        {
         "name": "candles",
         "rawType": "bool",
         "type": "boolean"
        },
        {
         "name": "candy",
         "rawType": "bool",
         "type": "boolean"
        },
        {
         "name": "canned beer",
         "rawType": "bool",
         "type": "boolean"
        },
        {
         "name": "canned fish",
         "rawType": "bool",
         "type": "boolean"
        },
        {
         "name": "canned fruit",
         "rawType": "bool",
         "type": "boolean"
        },
        {
         "name": "canned vegetables",
         "rawType": "bool",
         "type": "boolean"
        },
        {
         "name": "cat food",
         "rawType": "bool",
         "type": "boolean"
        },
        {
         "name": "cereals",
         "rawType": "bool",
         "type": "boolean"
        },
        {
         "name": "chewing gum",
         "rawType": "bool",
         "type": "boolean"
        },
        {
         "name": "chicken",
         "rawType": "bool",
         "type": "boolean"
        },
        {
         "name": "chocolate",
         "rawType": "bool",
         "type": "boolean"
        },
        {
         "name": "chocolate marshmallow",
         "rawType": "bool",
         "type": "boolean"
        },
        {
         "name": "citrus fruit",
         "rawType": "bool",
         "type": "boolean"
        },
        {
         "name": "cleaner",
         "rawType": "bool",
         "type": "boolean"
        },
        {
         "name": "cling film/bags",
         "rawType": "bool",
         "type": "boolean"
        },
        {
         "name": "cocoa drinks",
         "rawType": "bool",
         "type": "boolean"
        },
        {
         "name": "coffee",
         "rawType": "bool",
         "type": "boolean"
        },
        {
         "name": "condensed milk",
         "rawType": "bool",
         "type": "boolean"
        },
        {
         "name": "cooking chocolate",
         "rawType": "bool",
         "type": "boolean"
        },
        {
         "name": "cookware",
         "rawType": "bool",
         "type": "boolean"
        },
        {
         "name": "cream",
         "rawType": "bool",
         "type": "boolean"
        },
        {
         "name": "cream cheese",
         "rawType": "bool",
         "type": "boolean"
        },
        {
         "name": "curd",
         "rawType": "bool",
         "type": "boolean"
        },
        {
         "name": "curd cheese",
         "rawType": "bool",
         "type": "boolean"
        },
        {
         "name": "decalcifier",
         "rawType": "bool",
         "type": "boolean"
        },
        {
         "name": "dental care",
         "rawType": "bool",
         "type": "boolean"
        },
        {
         "name": "dessert",
         "rawType": "bool",
         "type": "boolean"
        },
        {
         "name": "detergent",
         "rawType": "bool",
         "type": "boolean"
        },
        {
         "name": "dish cleaner",
         "rawType": "bool",
         "type": "boolean"
        },
        {
         "name": "dishes",
         "rawType": "bool",
         "type": "boolean"
        },
        {
         "name": "dog food",
         "rawType": "bool",
         "type": "boolean"
        },
        {
         "name": "domestic eggs",
         "rawType": "bool",
         "type": "boolean"
        },
        {
         "name": "female sanitary products",
         "rawType": "bool",
         "type": "boolean"
        },
        {
         "name": "finished products",
         "rawType": "bool",
         "type": "boolean"
        },
        {
         "name": "fish",
         "rawType": "bool",
         "type": "boolean"
        },
        {
         "name": "flour",
         "rawType": "bool",
         "type": "boolean"
        },
        {
         "name": "flower (seeds)",
         "rawType": "bool",
         "type": "boolean"
        },
        {
         "name": "flower soil/fertilizer",
         "rawType": "bool",
         "type": "boolean"
        },
        {
         "name": "frankfurter",
         "rawType": "bool",
         "type": "boolean"
        },
        {
         "name": "frozen chicken",
         "rawType": "bool",
         "type": "boolean"
        },
        {
         "name": "frozen dessert",
         "rawType": "bool",
         "type": "boolean"
        },
        {
         "name": "frozen fish",
         "rawType": "bool",
         "type": "boolean"
        },
        {
         "name": "frozen fruits",
         "rawType": "bool",
         "type": "boolean"
        },
        {
         "name": "frozen meals",
         "rawType": "bool",
         "type": "boolean"
        },
        {
         "name": "frozen potato products",
         "rawType": "bool",
         "type": "boolean"
        },
        {
         "name": "frozen vegetables",
         "rawType": "bool",
         "type": "boolean"
        },
        {
         "name": "fruit/vegetable juice",
         "rawType": "bool",
         "type": "boolean"
        },
        {
         "name": "grapes",
         "rawType": "bool",
         "type": "boolean"
        },
        {
         "name": "hair spray",
         "rawType": "bool",
         "type": "boolean"
        },
        {
         "name": "ham",
         "rawType": "bool",
         "type": "boolean"
        },
        {
         "name": "hamburger meat",
         "rawType": "bool",
         "type": "boolean"
        },
        {
         "name": "hard cheese",
         "rawType": "bool",
         "type": "boolean"
        },
        {
         "name": "herbs",
         "rawType": "bool",
         "type": "boolean"
        },
        {
         "name": "honey",
         "rawType": "bool",
         "type": "boolean"
        },
        {
         "name": "house keeping products",
         "rawType": "bool",
         "type": "boolean"
        },
        {
         "name": "hygiene articles",
         "rawType": "bool",
         "type": "boolean"
        },
        {
         "name": "ice cream",
         "rawType": "bool",
         "type": "boolean"
        },
        {
         "name": "instant coffee",
         "rawType": "bool",
         "type": "boolean"
        },
        {
         "name": "instant food products",
         "rawType": "bool",
         "type": "boolean"
        },
        {
         "name": "jam",
         "rawType": "bool",
         "type": "boolean"
        },
        {
         "name": "ketchup",
         "rawType": "bool",
         "type": "boolean"
        },
        {
         "name": "kitchen towels",
         "rawType": "bool",
         "type": "boolean"
        },
        {
         "name": "light bulbs",
         "rawType": "bool",
         "type": "boolean"
        },
        {
         "name": "liquor",
         "rawType": "bool",
         "type": "boolean"
        },
        {
         "name": "liquor (appetizer)",
         "rawType": "bool",
         "type": "boolean"
        },
        {
         "name": "liver loaf",
         "rawType": "bool",
         "type": "boolean"
        },
        {
         "name": "long life bakery product",
         "rawType": "bool",
         "type": "boolean"
        },
        {
         "name": "male cosmetics",
         "rawType": "bool",
         "type": "boolean"
        },
        {
         "name": "margarine",
         "rawType": "bool",
         "type": "boolean"
        },
        {
         "name": "mayonnaise",
         "rawType": "bool",
         "type": "boolean"
        },
        {
         "name": "meat",
         "rawType": "bool",
         "type": "boolean"
        },
        {
         "name": "meat spreads",
         "rawType": "bool",
         "type": "boolean"
        },
        {
         "name": "misc. beverages",
         "rawType": "bool",
         "type": "boolean"
        },
        {
         "name": "mustard",
         "rawType": "bool",
         "type": "boolean"
        },
        {
         "name": "napkins",
         "rawType": "bool",
         "type": "boolean"
        },
        {
         "name": "newspapers",
         "rawType": "bool",
         "type": "boolean"
        },
        {
         "name": "nut snack",
         "rawType": "bool",
         "type": "boolean"
        },
        {
         "name": "nuts/prunes",
         "rawType": "bool",
         "type": "boolean"
        },
        {
         "name": "oil",
         "rawType": "bool",
         "type": "boolean"
        },
        {
         "name": "onions",
         "rawType": "bool",
         "type": "boolean"
        },
        {
         "name": "organic products",
         "rawType": "bool",
         "type": "boolean"
        },
        {
         "name": "organic sausage",
         "rawType": "bool",
         "type": "boolean"
        },
        {
         "name": "other vegetables",
         "rawType": "bool",
         "type": "boolean"
        },
        {
         "name": "packaged fruit/vegetables",
         "rawType": "bool",
         "type": "boolean"
        },
        {
         "name": "pasta",
         "rawType": "bool",
         "type": "boolean"
        },
        {
         "name": "pastry",
         "rawType": "bool",
         "type": "boolean"
        },
        {
         "name": "pet care",
         "rawType": "bool",
         "type": "boolean"
        },
        {
         "name": "photo/film",
         "rawType": "bool",
         "type": "boolean"
        },
        {
         "name": "pickled vegetables",
         "rawType": "bool",
         "type": "boolean"
        },
        {
         "name": "pip fruit",
         "rawType": "bool",
         "type": "boolean"
        },
        {
         "name": "popcorn",
         "rawType": "bool",
         "type": "boolean"
        },
        {
         "name": "pork",
         "rawType": "bool",
         "type": "boolean"
        },
        {
         "name": "pot plants",
         "rawType": "bool",
         "type": "boolean"
        },
        {
         "name": "potato products",
         "rawType": "bool",
         "type": "boolean"
        },
        {
         "name": "processed cheese",
         "rawType": "bool",
         "type": "boolean"
        },
        {
         "name": "prosecco",
         "rawType": "bool",
         "type": "boolean"
        },
        {
         "name": "red/blush wine",
         "rawType": "bool",
         "type": "boolean"
        },
        {
         "name": "rice",
         "rawType": "bool",
         "type": "boolean"
        },
        {
         "name": "roll products",
         "rawType": "bool",
         "type": "boolean"
        },
        {
         "name": "rolls/buns",
         "rawType": "bool",
         "type": "boolean"
        },
        {
         "name": "root vegetables",
         "rawType": "bool",
         "type": "boolean"
        },
        {
         "name": "rubbing alcohol",
         "rawType": "bool",
         "type": "boolean"
        },
        {
         "name": "rum",
         "rawType": "bool",
         "type": "boolean"
        },
        {
         "name": "salt",
         "rawType": "bool",
         "type": "boolean"
        },
        {
         "name": "salty snack",
         "rawType": "bool",
         "type": "boolean"
        },
        {
         "name": "sauces",
         "rawType": "bool",
         "type": "boolean"
        },
        {
         "name": "sausage",
         "rawType": "bool",
         "type": "boolean"
        },
        {
         "name": "seasonal products",
         "rawType": "bool",
         "type": "boolean"
        },
        {
         "name": "semi finished bread",
         "rawType": "bool",
         "type": "boolean"
        },
        {
         "name": "shopping bags",
         "rawType": "bool",
         "type": "boolean"
        },
        {
         "name": "skin care",
         "rawType": "bool",
         "type": "boolean"
        },
        {
         "name": "sliced cheese",
         "rawType": "bool",
         "type": "boolean"
        },
        {
         "name": "snack products",
         "rawType": "bool",
         "type": "boolean"
        },
        {
         "name": "soap",
         "rawType": "bool",
         "type": "boolean"
        },
        {
         "name": "soda",
         "rawType": "bool",
         "type": "boolean"
        },
        {
         "name": "soft cheese",
         "rawType": "bool",
         "type": "boolean"
        },
        {
         "name": "softener",
         "rawType": "bool",
         "type": "boolean"
        },
        {
         "name": "soups",
         "rawType": "bool",
         "type": "boolean"
        },
        {
         "name": "sparkling wine",
         "rawType": "bool",
         "type": "boolean"
        },
        {
         "name": "specialty bar",
         "rawType": "bool",
         "type": "boolean"
        },
        {
         "name": "specialty cheese",
         "rawType": "bool",
         "type": "boolean"
        },
        {
         "name": "specialty chocolate",
         "rawType": "bool",
         "type": "boolean"
        },
        {
         "name": "specialty fat",
         "rawType": "bool",
         "type": "boolean"
        },
        {
         "name": "spices",
         "rawType": "bool",
         "type": "boolean"
        },
        {
         "name": "spread cheese",
         "rawType": "bool",
         "type": "boolean"
        },
        {
         "name": "sugar",
         "rawType": "bool",
         "type": "boolean"
        },
        {
         "name": "sweet spreads",
         "rawType": "bool",
         "type": "boolean"
        },
        {
         "name": "syrup",
         "rawType": "bool",
         "type": "boolean"
        },
        {
         "name": "tea",
         "rawType": "bool",
         "type": "boolean"
        },
        {
         "name": "tidbits",
         "rawType": "bool",
         "type": "boolean"
        },
        {
         "name": "tropical fruit",
         "rawType": "bool",
         "type": "boolean"
        },
        {
         "name": "turkey",
         "rawType": "bool",
         "type": "boolean"
        },
        {
         "name": "uht milk",
         "rawType": "bool",
         "type": "boolean"
        },
        {
         "name": "vinegar",
         "rawType": "bool",
         "type": "boolean"
        },
        {
         "name": "waffles",
         "rawType": "bool",
         "type": "boolean"
        },
        {
         "name": "whipped/sour cream",
         "rawType": "bool",
         "type": "boolean"
        },
        {
         "name": "whisky",
         "rawType": "bool",
         "type": "boolean"
        },
        {
         "name": "white bread",
         "rawType": "bool",
         "type": "boolean"
        },
        {
         "name": "white wine",
         "rawType": "bool",
         "type": "boolean"
        },
        {
         "name": "whole milk",
         "rawType": "bool",
         "type": "boolean"
        },
        {
         "name": "yogurt",
         "rawType": "bool",
         "type": "boolean"
        },
        {
         "name": "zwieback",
         "rawType": "bool",
         "type": "boolean"
        }
       ],
       "ref": "f4d5f24c-bdf1-41da-9614-d27f4fcae74d",
       "rows": [
        [
         "0",
         "False",
         "False",
         "False",
         "False",
         "False",
         "False",
         "False",
         "False",
         "False",
         "False",
         "False",
         "False",
         "False",
         "False",
         "False",
         "False",
         "False",
         "False",
         "False",
         "False",
         "False",
         "False",
         "False",
         "False",
         "False",
         "False",
         "False",
         "False",
         "False",
         "False",
         "True",
         "False",
         "False",
         "False",
         "False",
         "False",
         "False",
         "False",
         "False",
         "False",
         "False",
         "False",
         "False",
         "False",
         "False",
         "False",
         "False",
         "False",
         "False",
         "False",
         "False",
         "False",
         "False",
         "False",
         "False",
         "False",
         "False",
         "False",
         "False",
         "False",
         "False",
         "False",
         "False",
         "False",
         "False",
         "False",
         "False",
         "False",
         "False",
         "False",
         "False",
         "False",
         "False",
         "False",
         "False",
         "False",
         "False",
         "False",
         "False",
         "False",
         "False",
         "False",
         "False",
         "False",
         "False",
         "False",
         "False",
         "False",
         "False",
         "False",
         "False",
         "False",
         "False",
         "False",
         "False",
         "False",
         "False",
         "False",
         "False",
         "False",
         "False",
         "False",
         "False",
         "False",
         "False",
         "False",
         "False",
         "False",
         "False",
         "False",
         "False",
         "False",
         "False",
         "False",
         "False",
         "False",
         "False",
         "False",
         "False",
         "False",
         "False",
         "False",
         "False",
         "False",
         "False",
         "False",
         "False",
         "False",
         "False",
         "False",
         "False",
         "False",
         "False",
         "False",
         "False",
         "False",
         "False",
         "False",
         "False",
         "False",
         "False",
         "False",
         "False",
         "False",
         "True",
         "False",
         "False",
         "False",
         "False",
         "False",
         "False",
         "False",
         "False",
         "False",
         "True",
         "False"
        ],
        [
         "1",
         "False",
         "False",
         "False",
         "False",
         "False",
         "False",
         "False",
         "False",
         "False",
         "False",
         "False",
         "False",
         "False",
         "False",
         "False",
         "False",
         "False",
         "False",
         "False",
         "False",
         "False",
         "False",
         "False",
         "False",
         "False",
         "False",
         "False",
         "False",
         "False",
         "False",
         "False",
         "False",
         "False",
         "False",
         "False",
         "True",
         "False",
         "False",
         "False",
         "False",
         "False",
         "False",
         "False",
         "False",
         "False",
         "False",
         "False",
         "False",
         "False",
         "False",
         "False",
         "False",
         "False",
         "False",
         "False",
         "False",
         "False",
         "False",
         "False",
         "False",
         "False",
         "False",
         "False",
         "False",
         "False",
         "False",
         "False",
         "False",
         "False",
         "False",
         "False",
         "False",
         "False",
         "False",
         "False",
         "False",
         "False",
         "False",
         "False",
         "False",
         "False",
         "False",
         "False",
         "False",
         "False",
         "True",
         "False",
         "False",
         "False",
         "False",
         "False",
         "False",
         "False",
         "False",
         "False",
         "False",
         "False",
         "False",
         "False",
         "False",
         "False",
         "False",
         "False",
         "True",
         "False",
         "False",
         "False",
         "False",
         "False",
         "False",
         "False",
         "False",
         "False",
         "False",
         "False",
         "False",
         "False",
         "False",
         "False",
         "False",
         "False",
         "False",
         "False",
         "False",
         "False",
         "False",
         "False",
         "False",
         "False",
         "False",
         "False",
         "False",
         "False",
         "False",
         "False",
         "False",
         "False",
         "False",
         "False",
         "False",
         "False",
         "False",
         "False",
         "False",
         "False",
         "False",
         "False",
         "False",
         "False",
         "False",
         "False",
         "False",
         "False",
         "False",
         "True",
         "False"
        ],
        [
         "2",
         "False",
         "False",
         "False",
         "False",
         "False",
         "False",
         "False",
         "False",
         "False",
         "False",
         "False",
         "False",
         "False",
         "False",
         "False",
         "False",
         "False",
         "False",
         "False",
         "False",
         "False",
         "False",
         "False",
         "False",
         "False",
         "False",
         "False",
         "False",
         "False",
         "False",
         "False",
         "True",
         "False",
         "False",
         "False",
         "False",
         "False",
         "False",
         "False",
         "False",
         "False",
         "False",
         "False",
         "False",
         "False",
         "False",
         "False",
         "False",
         "False",
         "False",
         "False",
         "False",
         "False",
         "False",
         "False",
         "False",
         "False",
         "False",
         "False",
         "False",
         "False",
         "False",
         "False",
         "False",
         "False",
         "False",
         "False",
         "False",
         "False",
         "False",
         "False",
         "False",
         "False",
         "False",
         "False",
         "False",
         "False",
         "False",
         "False",
         "False",
         "True",
         "False",
         "False",
         "False",
         "False",
         "False",
         "False",
         "False",
         "False",
         "False",
         "False",
         "False",
         "False",
         "False",
         "False",
         "False",
         "True",
         "False",
         "False",
         "False",
         "False",
         "False",
         "False",
         "False",
         "False",
         "False",
         "False",
         "False",
         "False",
         "False",
         "False",
         "False",
         "False",
         "False",
         "False",
         "False",
         "False",
         "False",
         "False",
         "False",
         "False",
         "False",
         "False",
         "False",
         "False",
         "False",
         "False",
         "False",
         "False",
         "False",
         "False",
         "False",
         "False",
         "False",
         "False",
         "False",
         "False",
         "False",
         "False",
         "False",
         "False",
         "False",
         "False",
         "False",
         "False",
         "False",
         "False",
         "False",
         "False",
         "False",
         "False",
         "False",
         "False",
         "True",
         "False",
         "False"
        ],
        [
         "3",
         "False",
         "False",
         "False",
         "False",
         "False",
         "False",
         "False",
         "False",
         "False",
         "False",
         "False",
         "False",
         "False",
         "False",
         "False",
         "False",
         "False",
         "False",
         "False",
         "False",
         "False",
         "True",
         "False",
         "False",
         "False",
         "False",
         "False",
         "False",
         "False",
         "False",
         "False",
         "False",
         "False",
         "False",
         "False",
         "False",
         "False",
         "False",
         "False",
         "False",
         "False",
         "False",
         "False",
         "False",
         "False",
         "False",
         "False",
         "False",
         "False",
         "False",
         "False",
         "False",
         "False",
         "False",
         "False",
         "False",
         "False",
         "False",
         "False",
         "False",
         "False",
         "False",
         "False",
         "False",
         "False",
         "False",
         "False",
         "False",
         "False",
         "False",
         "False",
         "False",
         "False",
         "False",
         "False",
         "False",
         "False",
         "False",
         "False",
         "False",
         "False",
         "False",
         "False",
         "False",
         "False",
         "False",
         "False",
         "False",
         "False",
         "False",
         "False",
         "False",
         "False",
         "False",
         "False",
         "False",
         "False",
         "False",
         "False",
         "False",
         "False",
         "False",
         "False",
         "False",
         "False",
         "False",
         "False",
         "False",
         "False",
         "False",
         "False",
         "False",
         "False",
         "False",
         "False",
         "False",
         "False",
         "False",
         "False",
         "False",
         "False",
         "False",
         "False",
         "False",
         "False",
         "False",
         "False",
         "False",
         "False",
         "False",
         "False",
         "False",
         "False",
         "False",
         "False",
         "False",
         "False",
         "False",
         "False",
         "False",
         "False",
         "False",
         "False",
         "False",
         "False",
         "False",
         "False",
         "False",
         "False",
         "False",
         "False",
         "False",
         "False",
         "True",
         "False",
         "False"
        ],
        [
         "4",
         "False",
         "False",
         "False",
         "False",
         "False",
         "False",
         "False",
         "False",
         "False",
         "False",
         "False",
         "False",
         "False",
         "False",
         "False",
         "False",
         "False",
         "False",
         "False",
         "False",
         "False",
         "False",
         "False",
         "False",
         "False",
         "False",
         "False",
         "False",
         "False",
         "False",
         "False",
         "False",
         "False",
         "False",
         "False",
         "False",
         "False",
         "False",
         "False",
         "False",
         "False",
         "False",
         "False",
         "False",
         "False",
         "False",
         "False",
         "False",
         "False",
         "False",
         "False",
         "False",
         "True",
         "False",
         "False",
         "False",
         "False",
         "False",
         "False",
         "False",
         "False",
         "False",
         "False",
         "False",
         "False",
         "False",
         "False",
         "False",
         "False",
         "False",
         "False",
         "False",
         "False",
         "False",
         "False",
         "False",
         "False",
         "False",
         "False",
         "False",
         "False",
         "False",
         "False",
         "False",
         "False",
         "False",
         "False",
         "False",
         "False",
         "False",
         "False",
         "False",
         "False",
         "False",
         "False",
         "False",
         "False",
         "False",
         "False",
         "False",
         "False",
         "False",
         "False",
         "False",
         "False",
         "False",
         "False",
         "False",
         "False",
         "False",
         "False",
         "False",
         "False",
         "True",
         "False",
         "False",
         "False",
         "False",
         "False",
         "False",
         "False",
         "False",
         "False",
         "False",
         "False",
         "False",
         "False",
         "False",
         "True",
         "False",
         "False",
         "False",
         "False",
         "False",
         "False",
         "False",
         "False",
         "False",
         "False",
         "False",
         "False",
         "False",
         "False",
         "False",
         "False",
         "False",
         "False",
         "False",
         "False",
         "False",
         "False",
         "False",
         "False",
         "False",
         "False",
         "False"
        ]
       ],
       "shape": {
        "columns": 156,
        "rows": 5
       }
      },
      "text/html": [
       "<div>\n",
       "<style scoped>\n",
       "    .dataframe tbody tr th:only-of-type {\n",
       "        vertical-align: middle;\n",
       "    }\n",
       "\n",
       "    .dataframe tbody tr th {\n",
       "        vertical-align: top;\n",
       "    }\n",
       "\n",
       "    .dataframe thead th {\n",
       "        text-align: right;\n",
       "    }\n",
       "</style>\n",
       "<table border=\"1\" class=\"dataframe\">\n",
       "  <thead>\n",
       "    <tr style=\"text-align: right;\">\n",
       "      <th></th>\n",
       "      <th>abrasive cleaner</th>\n",
       "      <th>artif. sweetener</th>\n",
       "      <th>baking powder</th>\n",
       "      <th>bathroom cleaner</th>\n",
       "      <th>beef</th>\n",
       "      <th>berries</th>\n",
       "      <th>beverages</th>\n",
       "      <th>bottled beer</th>\n",
       "      <th>bottled water</th>\n",
       "      <th>brandy</th>\n",
       "      <th>...</th>\n",
       "      <th>uht milk</th>\n",
       "      <th>vinegar</th>\n",
       "      <th>waffles</th>\n",
       "      <th>whipped/sour cream</th>\n",
       "      <th>whisky</th>\n",
       "      <th>white bread</th>\n",
       "      <th>white wine</th>\n",
       "      <th>whole milk</th>\n",
       "      <th>yogurt</th>\n",
       "      <th>zwieback</th>\n",
       "    </tr>\n",
       "  </thead>\n",
       "  <tbody>\n",
       "    <tr>\n",
       "      <th>0</th>\n",
       "      <td>False</td>\n",
       "      <td>False</td>\n",
       "      <td>False</td>\n",
       "      <td>False</td>\n",
       "      <td>False</td>\n",
       "      <td>False</td>\n",
       "      <td>False</td>\n",
       "      <td>False</td>\n",
       "      <td>False</td>\n",
       "      <td>False</td>\n",
       "      <td>...</td>\n",
       "      <td>False</td>\n",
       "      <td>False</td>\n",
       "      <td>False</td>\n",
       "      <td>False</td>\n",
       "      <td>False</td>\n",
       "      <td>False</td>\n",
       "      <td>False</td>\n",
       "      <td>False</td>\n",
       "      <td>True</td>\n",
       "      <td>False</td>\n",
       "    </tr>\n",
       "    <tr>\n",
       "      <th>1</th>\n",
       "      <td>False</td>\n",
       "      <td>False</td>\n",
       "      <td>False</td>\n",
       "      <td>False</td>\n",
       "      <td>False</td>\n",
       "      <td>False</td>\n",
       "      <td>False</td>\n",
       "      <td>False</td>\n",
       "      <td>False</td>\n",
       "      <td>False</td>\n",
       "      <td>...</td>\n",
       "      <td>False</td>\n",
       "      <td>False</td>\n",
       "      <td>False</td>\n",
       "      <td>False</td>\n",
       "      <td>False</td>\n",
       "      <td>False</td>\n",
       "      <td>False</td>\n",
       "      <td>False</td>\n",
       "      <td>True</td>\n",
       "      <td>False</td>\n",
       "    </tr>\n",
       "    <tr>\n",
       "      <th>2</th>\n",
       "      <td>False</td>\n",
       "      <td>False</td>\n",
       "      <td>False</td>\n",
       "      <td>False</td>\n",
       "      <td>False</td>\n",
       "      <td>False</td>\n",
       "      <td>False</td>\n",
       "      <td>False</td>\n",
       "      <td>False</td>\n",
       "      <td>False</td>\n",
       "      <td>...</td>\n",
       "      <td>False</td>\n",
       "      <td>False</td>\n",
       "      <td>False</td>\n",
       "      <td>False</td>\n",
       "      <td>False</td>\n",
       "      <td>False</td>\n",
       "      <td>False</td>\n",
       "      <td>True</td>\n",
       "      <td>False</td>\n",
       "      <td>False</td>\n",
       "    </tr>\n",
       "    <tr>\n",
       "      <th>3</th>\n",
       "      <td>False</td>\n",
       "      <td>False</td>\n",
       "      <td>False</td>\n",
       "      <td>False</td>\n",
       "      <td>False</td>\n",
       "      <td>False</td>\n",
       "      <td>False</td>\n",
       "      <td>False</td>\n",
       "      <td>False</td>\n",
       "      <td>False</td>\n",
       "      <td>...</td>\n",
       "      <td>False</td>\n",
       "      <td>False</td>\n",
       "      <td>False</td>\n",
       "      <td>False</td>\n",
       "      <td>False</td>\n",
       "      <td>False</td>\n",
       "      <td>False</td>\n",
       "      <td>True</td>\n",
       "      <td>False</td>\n",
       "      <td>False</td>\n",
       "    </tr>\n",
       "    <tr>\n",
       "      <th>4</th>\n",
       "      <td>False</td>\n",
       "      <td>False</td>\n",
       "      <td>False</td>\n",
       "      <td>False</td>\n",
       "      <td>False</td>\n",
       "      <td>False</td>\n",
       "      <td>False</td>\n",
       "      <td>False</td>\n",
       "      <td>False</td>\n",
       "      <td>False</td>\n",
       "      <td>...</td>\n",
       "      <td>False</td>\n",
       "      <td>False</td>\n",
       "      <td>False</td>\n",
       "      <td>False</td>\n",
       "      <td>False</td>\n",
       "      <td>False</td>\n",
       "      <td>False</td>\n",
       "      <td>False</td>\n",
       "      <td>False</td>\n",
       "      <td>False</td>\n",
       "    </tr>\n",
       "  </tbody>\n",
       "</table>\n",
       "<p>5 rows × 156 columns</p>\n",
       "</div>"
      ],
      "text/plain": [
       "   abrasive cleaner  artif. sweetener  baking powder  bathroom cleaner   beef  \\\n",
       "0             False             False          False             False  False   \n",
       "1             False             False          False             False  False   \n",
       "2             False             False          False             False  False   \n",
       "3             False             False          False             False  False   \n",
       "4             False             False          False             False  False   \n",
       "\n",
       "   berries  beverages  bottled beer  bottled water  brandy  ...  uht milk  \\\n",
       "0    False      False         False          False   False  ...     False   \n",
       "1    False      False         False          False   False  ...     False   \n",
       "2    False      False         False          False   False  ...     False   \n",
       "3    False      False         False          False   False  ...     False   \n",
       "4    False      False         False          False   False  ...     False   \n",
       "\n",
       "   vinegar  waffles  whipped/sour cream  whisky  white bread  white wine  \\\n",
       "0    False    False               False   False        False       False   \n",
       "1    False    False               False   False        False       False   \n",
       "2    False    False               False   False        False       False   \n",
       "3    False    False               False   False        False       False   \n",
       "4    False    False               False   False        False       False   \n",
       "\n",
       "   whole milk  yogurt  zwieback  \n",
       "0       False    True     False  \n",
       "1       False    True     False  \n",
       "2        True   False     False  \n",
       "3        True   False     False  \n",
       "4       False   False     False  \n",
       "\n",
       "[5 rows x 156 columns]"
      ]
     },
     "execution_count": 24,
     "metadata": {},
     "output_type": "execute_result"
    }
   ],
   "source": [
    "# Get all unique items from cleaned transactions\n",
    "all_items = sorted({item for tx in transactions_final for item in tx})\n",
    "\n",
    "# Create a one-hot encoded DataFrame\n",
    "df_encoded = pd.DataFrame([\n",
    "    {item: (item in tx) for item in all_items}\n",
    "    for tx in transactions_final\n",
    "])\n",
    "\n",
    "df_encoded.head()"
   ]
  },
  {
   "cell_type": "markdown",
   "id": "d59c0664",
   "metadata": {},
   "source": [
    "### 5. Data Modeling\n",
    "Apriori Implementation"
   ]
  },
  {
   "cell_type": "code",
   "execution_count": 25,
   "id": "8bca4ff0",
   "metadata": {},
   "outputs": [
    {
     "name": "stdout",
     "output_type": "stream",
     "text": [
      "Top 10 frequent itemsets:\n",
      "['whole milk'] support=0.187\n",
      "['rolls/buns'] support=0.168\n",
      "['soda'] support=0.156\n",
      "['other vegetables'] support=0.119\n",
      "['yogurt'] support=0.087\n",
      "['bottled water'] support=0.086\n",
      "['bottled beer'] support=0.072\n",
      "['pastry'] support=0.069\n",
      "['sausage'] support=0.068\n",
      "['shopping bags'] support=0.063\n"
     ]
    }
   ],
   "source": [
    "from itertools import combinations\n",
    "\n",
    "def apriori(transactions, min_support=0.01):\n",
    "    \"\"\"\n",
    "    transactions: list of lists\n",
    "    min_support: minimum support threshold (fraction)\n",
    "    Returns: dict of {itemset: support}\n",
    "    \"\"\"\n",
    "    itemsets = {}\n",
    "    transaction_count = len(transactions)\n",
    "    \n",
    "    # Step 1: single items\n",
    "    single_items = {frozenset([item]): 0 for tx in transactions for item in tx}\n",
    "    for tx in transactions:\n",
    "        for item in tx:\n",
    "            single_items[frozenset([item])] += 1\n",
    "    single_items = {i: c / transaction_count for i, c in single_items.items() if c / transaction_count >= min_support}\n",
    "    itemsets.update(single_items)\n",
    "    \n",
    "    # Step 2: larger itemsets\n",
    "    current_itemsets = single_items\n",
    "    k = 2\n",
    "    while current_itemsets:\n",
    "        candidates = {frozenset(x) for a in current_itemsets.keys() for b in current_itemsets.keys() for x in [a | b] if len(x) == k}\n",
    "        counts = {c: 0 for c in candidates}\n",
    "        for tx in transactions:\n",
    "            tx_set = set(tx)\n",
    "            for c in candidates:\n",
    "                if c.issubset(tx_set):\n",
    "                    counts[c] += 1\n",
    "        current_itemsets = {c: count / transaction_count for c, count in counts.items() if count / transaction_count >= min_support}\n",
    "        itemsets.update(current_itemsets)\n",
    "        k += 1\n",
    "    return itemsets\n",
    "\n",
    "# Run Apriori\n",
    "frequent_itemsets = apriori(transactions_final, min_support=0.01)\n",
    "\n",
    "# Sort by support\n",
    "frequent_itemsets_sorted = sorted(frequent_itemsets.items(), key=lambda x: x[1], reverse=True)\n",
    "\n",
    "print(\"Top 10 frequent itemsets:\")\n",
    "for items, support in frequent_itemsets_sorted[:10]:\n",
    "    print(list(items), f\"support={support:.3f}\")"
   ]
  },
  {
   "cell_type": "markdown",
   "id": "71cd8b94",
   "metadata": {},
   "source": [
    "### 6. Association Rules"
   ]
  },
  {
   "cell_type": "code",
   "execution_count": 26,
   "id": "cd542da7",
   "metadata": {},
   "outputs": [
    {
     "name": "stdout",
     "output_type": "stream",
     "text": [
      "Top 10 association rules:\n",
      "('root vegetables',) => ('other vegetables',) (support=0.012, confidence=0.228, lift=1.916)\n",
      "('sausage',) => ('rolls/buns',) (support=0.021, confidence=0.304, lift=1.813)\n",
      "('frankfurter',) => ('rolls/buns',) (support=0.013, confidence=0.303, lift=1.809)\n",
      "('root vegetables',) => ('whole milk',) (support=0.012, confidence=0.238, lift=1.271)\n",
      "('newspapers',) => ('whole milk',) (support=0.012, confidence=0.202, lift=1.083)\n"
     ]
    }
   ],
   "source": [
    "def generate_rules(frequent_itemsets, min_confidence=0.2):\n",
    "    \"\"\"\n",
    "    frequent_itemsets: dict of {itemset: support}\n",
    "    Returns: list of dicts with keys: antecedent, consequent, support, confidence, lift\n",
    "    \"\"\"\n",
    "    rules = []\n",
    "    for itemset, support in frequent_itemsets.items():\n",
    "        if len(itemset) < 2:\n",
    "            continue\n",
    "        for i in range(1, len(itemset)):\n",
    "            for antecedent in combinations(itemset, i):\n",
    "                antecedent = frozenset(antecedent)\n",
    "                consequent = itemset - antecedent\n",
    "                if not consequent:\n",
    "                    continue\n",
    "                support_a = frequent_itemsets.get(antecedent, 0)\n",
    "                support_c = frequent_itemsets.get(consequent, 0)\n",
    "                if support_a == 0:\n",
    "                    continue\n",
    "                confidence = support / support_a\n",
    "                lift = confidence / support_c if support_c > 0 else 0\n",
    "                if confidence >= min_confidence:\n",
    "                    rules.append({\n",
    "                        \"antecedent\": tuple(sorted(antecedent)),\n",
    "                        \"consequent\": tuple(sorted(consequent)),\n",
    "                        \"support\": support,\n",
    "                        \"confidence\": confidence,\n",
    "                        \"lift\": lift\n",
    "                    })\n",
    "    return sorted(rules, key=lambda x: x[\"lift\"], reverse=True)\n",
    "\n",
    "rules = generate_rules(frequent_itemsets, min_confidence=0.2)\n",
    "\n",
    "print(\"Top 10 association rules:\")\n",
    "for r in rules[:10]:\n",
    "    print(f\"{r['antecedent']} => {r['consequent']} \"\n",
    "          f\"(support={r['support']:.3f}, confidence={r['confidence']:.3f}, lift={r['lift']:.3f})\")"
   ]
  },
  {
   "cell_type": "markdown",
   "id": "75805330",
   "metadata": {},
   "source": [
    "### 7. Filtering Rules"
   ]
  },
  {
   "cell_type": "code",
   "execution_count": 27,
   "id": "698e61e5",
   "metadata": {},
   "outputs": [
    {
     "name": "stdout",
     "output_type": "stream",
     "text": [
      "Rules that predict 'whole milk':\n",
      "('root vegetables',) => ('whole milk',) (support=0.012, confidence=0.238, lift=1.271)\n",
      "('newspapers',) => ('whole milk',) (support=0.012, confidence=0.202, lift=1.083)\n"
     ]
    }
   ],
   "source": [
    "target_product = \"whole milk\"\n",
    "\n",
    "rules_for_target = [\n",
    "    r for r in rules\n",
    "    if target_product in r[\"consequent\"]\n",
    "]\n",
    "\n",
    "print(f\"Rules that predict '{target_product}':\")\n",
    "for r in rules_for_target[:10]:\n",
    "    print(f\"{r['antecedent']} => {r['consequent']} \"\n",
    "          f\"(support={r['support']:.3f}, confidence={r['confidence']:.3f}, lift={r['lift']:.3f})\")"
   ]
  },
  {
   "cell_type": "markdown",
   "id": "7520026b",
   "metadata": {},
   "source": [
    "### 8. Saving Association Rule"
   ]
  },
  {
   "cell_type": "code",
   "execution_count": 28,
   "id": "8239b361",
   "metadata": {},
   "outputs": [],
   "source": [
    "pd.DataFrame([\n",
    "    {\"items\": list(items), \"support\": support}\n",
    "    for items, support in frequent_itemsets.items()\n",
    "]).to_csv(\"frequent_itemsets.csv\", index=False)\n",
    "\n",
    "pd.DataFrame(rules).to_csv(\"association_rules.csv\", index=False)"
   ]
  },
  {
   "cell_type": "code",
   "execution_count": 29,
   "id": "0f362017",
   "metadata": {},
   "outputs": [
    {
     "name": "stdout",
     "output_type": "stream",
     "text": [
      "Transactions: 3946\n",
      "Unique items: 156\n",
      "Top 15 items: [('whole milk', 738), ('rolls/buns', 661), ('soda', 617), ('other vegetables', 469), ('yogurt', 344), ('bottled water', 339), ('bottled beer', 286), ('pastry', 271), ('sausage', 270), ('shopping bags', 248), ('newspapers', 242), ('canned beer', 242), ('tropical fruit', 220), ('root vegetables', 202), ('citrus fruit', 191)]\n"
     ]
    },
    {
     "data": {
      "image/png": "[encoded data removed]",
      "text/plain": [
       "<Figure size 800x400 with 1 Axes>"
      ]
     },
     "metadata": {},
     "output_type": "display_data"
    }
   ],
   "source": [
    "# Cell 1: Basic stats & distribution\n",
    "from collections import Counter\n",
    "import numpy as np\n",
    "import matplotlib.pyplot as plt\n",
    "\n",
    "n_tx = len(transactions_final)\n",
    "all_items = [itm for tx in transactions_final for itm in tx]\n",
    "unique_items = sorted(set(all_items))\n",
    "item_counts = Counter(all_items)\n",
    "\n",
    "print(f\"Transactions: {n_tx}\")\n",
    "print(f\"Unique items: {len(unique_items)}\")\n",
    "print(\"Top 15 items:\", item_counts.most_common(15))\n",
    "\n",
    "# Transaction length distribution\n",
    "tx_lengths = [len(tx) for tx in transactions_final]\n",
    "plt.figure(figsize=(8,4))\n",
    "plt.hist(tx_lengths, bins=range(1, max(tx_lengths)+2), edgecolor='k', align='left')\n",
    "plt.title(\"Transaction size distribution\")\n",
    "plt.xlabel(\"Number of distinct items in transaction\")\n",
    "plt.ylabel(\"Count of transactions\")\n",
    "plt.show()"
   ]
  },
  {
   "cell_type": "code",
   "execution_count": 30,
   "id": "cb391ca8",
   "metadata": {},
   "outputs": [
    {
     "data": {
      "image/png": "[encoded data removed]",
      "text/plain": [
       "<Figure size 800x600 with 2 Axes>"
      ]
     },
     "metadata": {},
     "output_type": "display_data"
    }
   ],
   "source": [
    "# Cell 5: scatter plot support vs confidence, color by lift\n",
    "import matplotlib.pyplot as plt\n",
    "import numpy as np\n",
    "\n",
    "s = [r['support'] for r in rules]\n",
    "c = [r['confidence'] for r in rules]\n",
    "l = [r['lift'] for r in rules]\n",
    "\n",
    "plt.figure(figsize=(8,6))\n",
    "sc = plt.scatter(s, c, c=l, cmap='viridis', s=np.array(l)*30, alpha=0.7)\n",
    "plt.colorbar(sc, label='lift')\n",
    "plt.xlabel(\"Support\")\n",
    "plt.ylabel(\"Confidence\")\n",
    "plt.title(\"Association rules: support vs confidence (colored by lift)\")\n",
    "plt.grid(True)\n",
    "\n",
    "# annotate top lifts\n",
    "top_lift_rules = sorted(rules, key=lambda r: r['lift'], reverse=True)[:6]\n",
    "for r in top_lift_rules:\n",
    "    plt.annotate(','.join(list(r['consequent'])), (r['support'], r['confidence']), textcoords=\"offset points\", xytext=(5,-5))\n",
    "\n",
    "plt.show()"
   ]
  },
  {
   "cell_type": "code",
   "execution_count": 32,
   "id": "8769a706",
   "metadata": {},
   "outputs": [
    {
     "name": "stdout",
     "output_type": "stream",
     "text": [
      "Collecting networkx\n",
      "  Downloading networkx-3.5-py3-none-any.whl.metadata (6.3 kB)\n",
      "Downloading networkx-3.5-py3-none-any.whl (2.0 MB)\n",
      "\u001b[2K   \u001b[90m━━━━━━━━━━━━━━━━━━━━━━━━━━━━━━━━━━━━━━━━\u001b[0m \u001b[32m2.0/2.0 MB\u001b[0m \u001b[31m1.4 MB/s\u001b[0m eta \u001b[36m0:00:00\u001b[0ma \u001b[36m0:00:01\u001b[0m\n",
      "\u001b[?25hInstalling collected packages: networkx\n",
      "Successfully installed networkx-3.5\n",
      "\n",
      "\u001b[1m[\u001b[0m\u001b[34;49mnotice\u001b[0m\u001b[1;39;49m]\u001b[0m\u001b[39;49m A new release of pip is available: \u001b[0m\u001b[31;49m25.1.1\u001b[0m\u001b[39;49m -> \u001b[0m\u001b[32;49m25.2\u001b[0m\n",
      "\u001b[1m[\u001b[0m\u001b[34;49mnotice\u001b[0m\u001b[1;39;49m]\u001b[0m\u001b[39;49m To update, run: \u001b[0m\u001b[32;49mpip3 install --upgrade pip\u001b[0m\n",
      "Note: you may need to restart the kernel to use updated packages.\n"
     ]
    }
   ],
   "source": [
    "%pip install networkx"
   ]
  },
  {
   "cell_type": "code",
   "execution_count": 33,
   "id": "bf96ed45",
   "metadata": {},
   "outputs": [
    {
     "data": {
      "image/png": "[encoded data removed]",
      "text/plain": [
       "<Figure size 1200x800 with 1 Axes>"
      ]
     },
     "metadata": {},
     "output_type": "display_data"
    }
   ],
   "source": [
    "# Cell 6: network graph of top rules (attempt networkx; otherwise skip)\n",
    "try:\n",
    "    import networkx as nx\n",
    "    top_k = 30\n",
    "    G = nx.DiGraph()\n",
    "    selected = rules[:top_k]\n",
    "    for r in selected:\n",
    "        a = ', '.join(sorted(list(r['antecedent'])))\n",
    "        b = ', '.join(sorted(list(r['consequent'])))\n",
    "        G.add_node(a)\n",
    "        G.add_node(b)\n",
    "        G.add_edge(a, b, weight=r['lift'], support=r['support'], confidence=r['confidence'])\n",
    "    plt.figure(figsize=(12,8))\n",
    "    pos = nx.spring_layout(G, k=1.0)\n",
    "    weights = [G[u][v]['weight'] for u,v in G.edges()]\n",
    "    nx.draw_networkx_nodes(G, pos, node_size=800, node_color='lightblue')\n",
    "    nx.draw_networkx_labels(G, pos, font_size=9)\n",
    "    nx.draw_networkx_edges(G, pos, arrowstyle='->', arrowsize=12, width=[(w*1.5) for w in weights], edge_color='gray')\n",
    "    plt.title(\"Top association rules graph (antecedent -> consequent)\")\n",
    "    plt.axis('off')\n",
    "    plt.show()\n",
    "except Exception as e:\n",
    "    print(\"networkx visualization skipped (not installed or error).\", e)"
   ]
  },
  {
   "cell_type": "code",
   "execution_count": 36,
   "id": "10434649",
   "metadata": {},
   "outputs": [
    {
     "data": {
      "image/png": "[encoded data removed]",
      "text/plain": [
       "<Figure size 1200x1000 with 2 Axes>"
      ]
     },
     "metadata": {},
     "output_type": "display_data"
    }
   ],
   "source": [
    "# Cell 7: pairwise lift heatmap for top N items\n",
    "import numpy as np\n",
    "import matplotlib.pyplot as plt\n",
    "\n",
    "# compute support dict for singletons\n",
    "support = {it: frequent_itemsets.get(frozenset([it]), 0) for it in unique_items}\n",
    "top_n = 25\n",
    "top_items = [it for it,_ in item_counts.most_common(top_n)]\n",
    "\n",
    "# compute pairwise lift matrix\n",
    "lift_matrix = np.zeros((len(top_items), len(top_items)))\n",
    "for i, a in enumerate(top_items):\n",
    "    for j, b in enumerate(top_items):\n",
    "        if a == b:\n",
    "            lift_matrix[i,j] = np.nan\n",
    "            continue\n",
    "        sup_ab = frequent_itemsets.get(frozenset([a,b]), 0)\n",
    "        sup_a = support.get(a, 0)\n",
    "        sup_b = support.get(b, 0)\n",
    "        if sup_a*sup_b != sup_a*sup_b:\n",
    "            lift = (sup_ab / (sup_a*sup_b)) if sup_a>0 and sup_b>0 else 0\n",
    "        else:\n",
    "            lift = 0\n",
    "        lift_matrix[i,j] = lift\n",
    "\n",
    "plt.figure(figsize=(12,10))\n",
    "plt.imshow(lift_matrix, aspect='auto', cmap='coolwarm', interpolation='nearest')\n",
    "plt.colorbar(label='lift')\n",
    "plt.xticks(range(len(top_items)), top_items, rotation=90)\n",
    "plt.yticks(range(len(top_items)), top_items)\n",
    "plt.title(f\"Pairwise lift heatmap (top {top_n} items)\")\n",
    "plt.show()"
   ]
  },
  {
   "cell_type": "code",
   "execution_count": 37,
   "id": "5936b7d1",
   "metadata": {},
   "outputs": [],
   "source": [
    "den = sup_a * sup_b\n",
    "if den > 0:\n",
    "    lift = sup_ab / den\n",
    "else:\n",
    "    lift = 0"
   ]
  },
  {
   "cell_type": "code",
   "execution_count": 39,
   "id": "db80bb40",
   "metadata": {},
   "outputs": [
    {
     "name": "stdout",
     "output_type": "stream",
     "text": [
      "Collecting mlxtend\n",
      "  Downloading mlxtend-0.23.4-py3-none-any.whl.metadata (7.3 kB)\n",
      "Requirement already satisfied: scipy>=1.2.1 in /Library/Frameworks/Python.framework/Versions/3.13/lib/python3.13/site-packages (from mlxtend) (1.16.0)\n",
      "Requirement already satisfied: numpy>=1.16.2 in /Library/Frameworks/Python.framework/Versions/3.13/lib/python3.13/site-packages (from mlxtend) (2.3.1)\n",
      "Requirement already satisfied: pandas>=0.24.2 in /Library/Frameworks/Python.framework/Versions/3.13/lib/python3.13/site-packages (from mlxtend) (2.3.1)\n",
      "Requirement already satisfied: scikit-learn>=1.3.1 in /Library/Frameworks/Python.framework/Versions/3.13/lib/python3.13/site-packages (from mlxtend) (1.7.1)\n",
      "Requirement already satisfied: matplotlib>=3.0.0 in /Library/Frameworks/Python.framework/Versions/3.13/lib/python3.13/site-packages (from mlxtend) (3.10.3)\n",
      "Requirement already satisfied: joblib>=0.13.2 in /Library/Frameworks/Python.framework/Versions/3.13/lib/python3.13/site-packages (from mlxtend) (1.5.1)\n",
      "Requirement already satisfied: contourpy>=1.0.1 in /Library/Frameworks/Python.framework/Versions/3.13/lib/python3.13/site-packages (from matplotlib>=3.0.0->mlxtend) (1.3.3)\n",
      "Requirement already satisfied: cycler>=0.10 in /Library/Frameworks/Python.framework/Versions/3.13/lib/python3.13/site-packages (from matplotlib>=3.0.0->mlxtend) (0.12.1)\n",
      "Requirement already satisfied: fonttools>=4.22.0 in /Library/Frameworks/Python.framework/Versions/3.13/lib/python3.13/site-packages (from matplotlib>=3.0.0->mlxtend) (4.59.0)\n",
      "Requirement already satisfied: kiwisolver>=1.3.1 in /Library/Frameworks/Python.framework/Versions/3.13/lib/python3.13/site-packages (from matplotlib>=3.0.0->mlxtend) (1.4.8)\n",
      "Requirement already satisfied: packaging>=20.0 in /Users/abdirazak/Library/Python/3.13/lib/python/site-packages (from matplotlib>=3.0.0->mlxtend) (25.0)\n",
      "Requirement already satisfied: pillow>=8 in /Library/Frameworks/Python.framework/Versions/3.13/lib/python3.13/site-packages (from matplotlib>=3.0.0->mlxtend) (11.3.0)\n",
      "Requirement already satisfied: pyparsing>=2.3.1 in /Library/Frameworks/Python.framework/Versions/3.13/lib/python3.13/site-packages (from matplotlib>=3.0.0->mlxtend) (3.2.3)\n",
      "Requirement already satisfied: python-dateutil>=2.7 in /Users/abdirazak/Library/Python/3.13/lib/python/site-packages (from matplotlib>=3.0.0->mlxtend) (2.9.0.post0)\n",
      "Requirement already satisfied: pytz>=2020.1 in /Library/Frameworks/Python.framework/Versions/3.13/lib/python3.13/site-packages (from pandas>=0.24.2->mlxtend) (2025.2)\n",
      "Requirement already satisfied: tzdata>=2022.7 in /Library/Frameworks/Python.framework/Versions/3.13/lib/python3.13/site-packages (from pandas>=0.24.2->mlxtend) (2025.2)\n",
      "Requirement already satisfied: six>=1.5 in /Users/abdirazak/Library/Python/3.13/lib/python/site-packages (from python-dateutil>=2.7->matplotlib>=3.0.0->mlxtend) (1.17.0)\n",
      "Requirement already satisfied: threadpoolctl>=3.1.0 in /Library/Frameworks/Python.framework/Versions/3.13/lib/python3.13/site-packages (from scikit-learn>=1.3.1->mlxtend) (3.6.0)\n",
      "Downloading mlxtend-0.23.4-py3-none-any.whl (1.4 MB)\n",
      "\u001b[2K   \u001b[90m━━━━━━━━━━━━━━━━━━━━━━━━━━━━━━━━━━━━━━━━\u001b[0m \u001b[32m1.4/1.4 MB\u001b[0m \u001b[31m1.7 MB/s\u001b[0m eta \u001b[36m0:00:00\u001b[0ma \u001b[36m0:00:01\u001b[0m\n",
      "\u001b[?25hInstalling collected packages: mlxtend\n",
      "Successfully installed mlxtend-0.23.4\n",
      "\n",
      "\u001b[1m[\u001b[0m\u001b[34;49mnotice\u001b[0m\u001b[1;39;49m]\u001b[0m\u001b[39;49m A new release of pip is available: \u001b[0m\u001b[31;49m25.1.1\u001b[0m\u001b[39;49m -> \u001b[0m\u001b[32;49m25.2\u001b[0m\n",
      "\u001b[1m[\u001b[0m\u001b[34;49mnotice\u001b[0m\u001b[1;39;49m]\u001b[0m\u001b[39;49m To update, run: \u001b[0m\u001b[32;49mpip3 install --upgrade pip\u001b[0m\n",
      "Note: you may need to restart the kernel to use updated packages.\n"
     ]
    }
   ],
   "source": [
    "%pip install mlxtend"
   ]
  },
  {
   "cell_type": "code",
   "execution_count": 40,
   "id": "0d32ca60",
   "metadata": {},
   "outputs": [
    {
     "name": "stdout",
     "output_type": "stream",
     "text": [
      "   support         itemsets\n",
      "0      0.8           (milk)\n",
      "1      0.8          (bread)\n",
      "2      0.8         (butter)\n",
      "3      0.6    (milk, bread)\n",
      "4      0.6   (milk, butter)\n",
      "5      0.6  (bread, butter)\n"
     ]
    },
    {
     "name": "stderr",
     "output_type": "stream",
     "text": [
      "/var/folders/7c/gq0bcsjx4z5518py08krjc880000gn/T/ipykernel_37705/3702881234.py:17: FutureWarning: Downcasting object dtype arrays on .fillna, .ffill, .bfill is deprecated and will change in a future version. Call result.infer_objects(copy=False) instead. To opt-in to the future behavior, set `pd.set_option('future.no_silent_downcasting', True)`\n",
      "  df = pd.DataFrame([{item: True for item in basket} for basket in transactions]).fillna(False)\n"
     ]
    }
   ],
   "source": [
    "from mlxtend.frequent_patterns import apriori\n",
    "from mlxtend.frequent_patterns import association_rules\n",
    "import pandas as pd\n",
    "\n",
    "def apriori_itemsets(transactions, min_support=0.01):\n",
    "    \"\"\"\n",
    "    Mine frequent itemsets using the Apriori algorithm.\n",
    "    \n",
    "    Parameters:\n",
    "        transactions (list of list of str): List of baskets, each a list of items.\n",
    "        min_support (float): Minimum support threshold.\n",
    "        \n",
    "    Returns:\n",
    "        DataFrame: Frequent itemsets with 'support'.\n",
    "    \"\"\"\n",
    "    # Create a one-hot encoded DataFrame for transactions\n",
    "    df = pd.DataFrame([{item: True for item in basket} for basket in transactions]).fillna(False)\n",
    "    \n",
    "    # Run Apriori\n",
    "    frequent_itemsets = apriori(df, min_support=min_support, use_colnames=True)\n",
    "    \n",
    "    return frequent_itemsets\n",
    "\n",
    "# Example usage:\n",
    "train_tx = [\n",
    "    ['milk', 'bread', 'butter'],\n",
    "    ['milk', 'bread'],\n",
    "    ['milk', 'butter'],\n",
    "    ['bread', 'butter'],\n",
    "    ['milk', 'bread', 'butter']\n",
    "]\n",
    "\n",
    "min_support = 0.5\n",
    "freq_train = apriori_itemsets(train_tx, min_support=min_support)\n",
    "print(freq_train)"
   ]
  },
  {
   "cell_type": "code",
   "execution_count": 44,
   "id": "25d7c621",
   "metadata": {},
   "outputs": [
    {
     "name": "stdout",
     "output_type": "stream",
     "text": [
      "train: 3156 test: 790\n",
      "Rules on train: 0\n",
      "Evaluation (precision of top-1 consequent): {'total_preds': 0, 'correct': 0, 'precision': None}\n"
     ]
    }
   ],
   "source": [
    "# Cell 8: Evaluate rules by train/test split (simple holdout)\n",
    "from random import shuffle, seed\n",
    "seed(42)\n",
    "\n",
    "def train_test_split(transactions, test_frac=0.2):\n",
    "    tx = transactions.copy()\n",
    "    shuffle(tx)\n",
    "    split = int(len(tx)*(1-test_frac))\n",
    "    return tx[:split], tx[split:]\n",
    "\n",
    "train_tx, test_tx = train_test_split(transactions_final, test_frac=0.2)\n",
    "print(\"train:\", len(train_tx), \"test:\", len(test_tx))\n",
    "\n",
    "# Mine itemsets on train\n",
    "min_confidence = 0.5\n",
    "freq_train = apriori_itemsets(train_tx, min_support=min_support)\n",
    "rules_train = generate_rules(freq_train, min_confidence=min_confidence)\n",
    "print(\"Rules on train:\", len(rules_train))\n",
    "\n",
    "# Evaluate: for each test transaction, for each antecedent subset present, check if predicted consequent is in test tx\n",
    "def evaluate_rules(rules, test_transactions, top_k=None):\n",
    "    # build a mapping antecedent -> list of consequents ordered by lift\n",
    "    from collections import defaultdict\n",
    "    mapping = defaultdict(list)\n",
    "    for r in rules:\n",
    "        mapping[tuple(sorted(r['antecedent']))].append(r)\n",
    "    # sort each antecedent's consequents by lift desc\n",
    "    for k,v in mapping.items():\n",
    "        mapping[k] = sorted(v, key=lambda x: x['lift'], reverse=True)\n",
    "    # metrics\n",
    "    total_preds = 0\n",
    "    correct = 0\n",
    "    for tx in test_transactions:\n",
    "        tx_set = set(tx)\n",
    "        # for each antecedent present in the tx\n",
    "        for antecedent in mapping.keys():\n",
    "            if set(antecedent).issubset(tx_set):\n",
    "                # recommend top consequent(s) (we'll take top 1 for simplicity)\n",
    "                preds = mapping[antecedent][:1]\n",
    "                for p in preds:\n",
    "                    total_preds += 1\n",
    "                    if set(p['consequent']).issubset(tx_set):\n",
    "                        correct += 1\n",
    "    precision = correct / total_preds if total_preds>0 else None\n",
    "    return {'total_preds': total_preds, 'correct': correct, 'precision': precision}\n",
    "\n",
    "eval_res = evaluate_rules(rules_train, test_tx)\n",
    "print(\"Evaluation (precision of top-1 consequent):\", eval_res)"
   ]
  },
  {
   "cell_type": "code",
   "execution_count": 43,
   "id": "b156425d",
   "metadata": {},
   "outputs": [],
   "source": [
    "from collections import defaultdict\n",
    "from itertools import combinations\n",
    "\n",
    "def apriori_itemsets(transactions, min_support=0.01):\n",
    "    # total number of transactions\n",
    "    n_transactions = len(transactions)\n",
    "    min_count = int(min_support * n_transactions)\n",
    "    \n",
    "    # Step 1: count individual items\n",
    "    item_counts = defaultdict(int)\n",
    "    for tx in transactions:\n",
    "        for item in tx:\n",
    "            item_counts[frozenset([item])] += 1\n",
    "    \n",
    "    # Keep items that meet min_support\n",
    "    freq_itemsets = {item: count for item, count in item_counts.items() if count >= min_count}\n",
    "    all_freq_itemsets = dict(freq_itemsets)  # copy for final output\n",
    "    \n",
    "    k = 2\n",
    "    current_freq_items = list(freq_itemsets.keys())\n",
    "    \n",
    "    while current_freq_items:\n",
    "        candidates = set()\n",
    "        for i in range(len(current_freq_items)):\n",
    "            for j in range(i+1, len(current_freq_items)):\n",
    "                union_set = current_freq_items[i] | current_freq_items[j]\n",
    "                if len(union_set) == k:\n",
    "                    candidates.add(union_set)\n",
    "        \n",
    "        # Count candidates\n",
    "        candidate_counts = defaultdict(int)\n",
    "        for tx in transactions:\n",
    "            tx_set = set(tx)\n",
    "            for cand in candidates:\n",
    "                if cand.issubset(tx_set):\n",
    "                    candidate_counts[cand] += 1\n",
    "        \n",
    "        # Keep those meeting min_support\n",
    "        current_freq_items = [itemset for itemset, count in candidate_counts.items() if count >= min_count]\n",
    "        freq_k_itemsets = {itemset: candidate_counts[itemset] for itemset in current_freq_items}\n",
    "        \n",
    "        # Add to all frequent itemsets\n",
    "        all_freq_itemsets.update(freq_k_itemsets)\n",
    "        \n",
    "        k += 1\n",
    "    \n",
    "    # Convert counts to supports\n",
    "    freq_with_support = {itemset: count / n_transactions for itemset, count in all_freq_itemsets.items()}\n",
    "    \n",
    "    return freq_with_support"
   ]
  },
  {
   "cell_type": "code",
   "execution_count": 45,
   "id": "5d02f2f4",
   "metadata": {},
   "outputs": [
    {
     "name": "stdout",
     "output_type": "stream",
     "text": [
      "Basket: ['whole milk', 'brown bread']\n"
     ]
    },
    {
     "ename": "AttributeError",
     "evalue": "'tuple' object has no attribute 'issubset'",
     "output_type": "error",
     "traceback": [
      "\u001b[31m---------------------------------------------------------------------------\u001b[39m",
      "\u001b[31mAttributeError\u001b[39m                            Traceback (most recent call last)",
      "\u001b[36mCell\u001b[39m\u001b[36m \u001b[39m\u001b[32mIn[45]\u001b[39m\u001b[32m, line 18\u001b[39m\n\u001b[32m     16\u001b[39m basket = [\u001b[33m\"\u001b[39m\u001b[33mwhole milk\u001b[39m\u001b[33m\"\u001b[39m, \u001b[33m\"\u001b[39m\u001b[33mbrown bread\u001b[39m\u001b[33m\"\u001b[39m]\n\u001b[32m     17\u001b[39m \u001b[38;5;28mprint\u001b[39m(\u001b[33m\"\u001b[39m\u001b[33mBasket:\u001b[39m\u001b[33m\"\u001b[39m, basket)\n\u001b[32m---> \u001b[39m\u001b[32m18\u001b[39m \u001b[38;5;28mprint\u001b[39m(\u001b[33m\"\u001b[39m\u001b[33mRecommendations:\u001b[39m\u001b[33m\"\u001b[39m, \u001b[43mrecommend_for_basket\u001b[49m\u001b[43m(\u001b[49m\u001b[43mbasket\u001b[49m\u001b[43m,\u001b[49m\u001b[43m \u001b[49m\u001b[43mrules\u001b[49m\u001b[43m)\u001b[49m)\n",
      "\u001b[36mCell\u001b[39m\u001b[36m \u001b[39m\u001b[32mIn[45]\u001b[39m\u001b[32m, line 6\u001b[39m, in \u001b[36mrecommend_for_basket\u001b[39m\u001b[34m(basket, rules, top_n)\u001b[39m\n\u001b[32m      4\u001b[39m candidates = {}\n\u001b[32m      5\u001b[39m \u001b[38;5;28;01mfor\u001b[39;00m r \u001b[38;5;129;01min\u001b[39;00m rules:\n\u001b[32m----> \u001b[39m\u001b[32m6\u001b[39m     \u001b[38;5;28;01mif\u001b[39;00m \u001b[43mr\u001b[49m\u001b[43m[\u001b[49m\u001b[33;43m'\u001b[39;49m\u001b[33;43mantecedent\u001b[39;49m\u001b[33;43m'\u001b[39;49m\u001b[43m]\u001b[49m\u001b[43m.\u001b[49m\u001b[43missubset\u001b[49m(basket_set):\n\u001b[32m      7\u001b[39m         conj = \u001b[38;5;28mtuple\u001b[39m(\u001b[38;5;28msorted\u001b[39m(r[\u001b[33m'\u001b[39m\u001b[33mconsequent\u001b[39m\u001b[33m'\u001b[39m]))\n\u001b[32m      8\u001b[39m         \u001b[38;5;66;03m# score by lift * confidence * support (arbitrary scoring to rank)\u001b[39;00m\n",
      "\u001b[31mAttributeError\u001b[39m: 'tuple' object has no attribute 'issubset'"
     ]
    }
   ],
   "source": [
    "# Cell 9: simple recommend function using mined rules\n",
    "def recommend_for_basket(basket, rules, top_n=5):\n",
    "    basket_set = set(basket)\n",
    "    candidates = {}\n",
    "    for r in rules:\n",
    "        if r['antecedent'].issubset(basket_set):\n",
    "            conj = tuple(sorted(r['consequent']))\n",
    "            # score by lift * confidence * support (arbitrary scoring to rank)\n",
    "            score = r['lift'] * r['confidence'] * r['support']\n",
    "            candidates[conj] = max(candidates.get(conj, 0), score)\n",
    "    # return top_n sorted\n",
    "    out = sorted(candidates.items(), key=lambda x: x[1], reverse=True)[:top_n]\n",
    "    return [(list(k), v) for k,v in out]\n",
    "\n",
    "# Example test\n",
    "basket = [\"whole milk\", \"brown bread\"]\n",
    "print(\"Basket:\", basket)\n",
    "print(\"Recommendations:\", recommend_for_basket(basket, rules))"
   ]
  },
  {
   "cell_type": "code",
   "execution_count": 46,
   "id": "77777c3f",
   "metadata": {},
   "outputs": [
    {
     "name": "stdout",
     "output_type": "stream",
     "text": [
      "Exported top rules to top_association_rules.csv\n"
     ]
    },
    {
     "data": {
      "application/vnd.microsoft.datawrangler.viewer.v0+json": {
       "columns": [
        {
         "name": "index",
         "rawType": "int64",
         "type": "integer"
        },
        {
         "name": "antecedent",
         "rawType": "object",
         "type": "string"
        },
        {
         "name": "consequent",
         "rawType": "object",
         "type": "string"
        },
        {
         "name": "support",
         "rawType": "float64",
         "type": "float"
        },
        {
         "name": "confidence",
         "rawType": "float64",
         "type": "float"
        },
        {
         "name": "lift",
         "rawType": "float64",
         "type": "float"
        }
       ],
       "ref": "e343a4a7-8c68-4092-9167-2a3dd0a38958",
       "rows": [
        [
         "0",
         "root vegetables",
         "other vegetables",
         "0.011657374556512924",
         "0.2277227722772277",
         "1.9159788047034978"
        ],
        [
         "1",
         "sausage",
         "rolls/buns",
         "0.020780537252914344",
         "0.3037037037037037",
         "1.8130330027455595"
        ],
        [
         "2",
         "frankfurter",
         "rolls/buns",
         "0.012671059300557527",
         "0.30303030303030304",
         "1.8090129739146381"
        ],
        [
         "3",
         "root vegetables",
         "whole milk",
         "0.012164216928535226",
         "0.23762376237623764",
         "1.2705465668518072"
        ],
        [
         "4",
         "newspapers",
         "whole milk",
         "0.012417638114546376",
         "0.2024793388429752",
         "1.0826334296400815"
        ]
       ],
       "shape": {
        "columns": 5,
        "rows": 5
       }
      },
      "text/html": [
       "<div>\n",
       "<style scoped>\n",
       "    .dataframe tbody tr th:only-of-type {\n",
       "        vertical-align: middle;\n",
       "    }\n",
       "\n",
       "    .dataframe tbody tr th {\n",
       "        vertical-align: top;\n",
       "    }\n",
       "\n",
       "    .dataframe thead th {\n",
       "        text-align: right;\n",
       "    }\n",
       "</style>\n",
       "<table border=\"1\" class=\"dataframe\">\n",
       "  <thead>\n",
       "    <tr style=\"text-align: right;\">\n",
       "      <th></th>\n",
       "      <th>antecedent</th>\n",
       "      <th>consequent</th>\n",
       "      <th>support</th>\n",
       "      <th>confidence</th>\n",
       "      <th>lift</th>\n",
       "    </tr>\n",
       "  </thead>\n",
       "  <tbody>\n",
       "    <tr>\n",
       "      <th>0</th>\n",
       "      <td>root vegetables</td>\n",
       "      <td>other vegetables</td>\n",
       "      <td>0.011657</td>\n",
       "      <td>0.227723</td>\n",
       "      <td>1.915979</td>\n",
       "    </tr>\n",
       "    <tr>\n",
       "      <th>1</th>\n",
       "      <td>sausage</td>\n",
       "      <td>rolls/buns</td>\n",
       "      <td>0.020781</td>\n",
       "      <td>0.303704</td>\n",
       "      <td>1.813033</td>\n",
       "    </tr>\n",
       "    <tr>\n",
       "      <th>2</th>\n",
       "      <td>frankfurter</td>\n",
       "      <td>rolls/buns</td>\n",
       "      <td>0.012671</td>\n",
       "      <td>0.303030</td>\n",
       "      <td>1.809013</td>\n",
       "    </tr>\n",
       "    <tr>\n",
       "      <th>3</th>\n",
       "      <td>root vegetables</td>\n",
       "      <td>whole milk</td>\n",
       "      <td>0.012164</td>\n",
       "      <td>0.237624</td>\n",
       "      <td>1.270547</td>\n",
       "    </tr>\n",
       "    <tr>\n",
       "      <th>4</th>\n",
       "      <td>newspapers</td>\n",
       "      <td>whole milk</td>\n",
       "      <td>0.012418</td>\n",
       "      <td>0.202479</td>\n",
       "      <td>1.082633</td>\n",
       "    </tr>\n",
       "  </tbody>\n",
       "</table>\n",
       "</div>"
      ],
      "text/plain": [
       "        antecedent        consequent   support  confidence      lift\n",
       "0  root vegetables  other vegetables  0.011657    0.227723  1.915979\n",
       "1          sausage        rolls/buns  0.020781    0.303704  1.813033\n",
       "2      frankfurter        rolls/buns  0.012671    0.303030  1.809013\n",
       "3  root vegetables        whole milk  0.012164    0.237624  1.270547\n",
       "4       newspapers        whole milk  0.012418    0.202479  1.082633"
      ]
     },
     "execution_count": 46,
     "metadata": {},
     "output_type": "execute_result"
    }
   ],
   "source": [
    "# Cell 10: Export top K rules as human readable CSV + print summary\n",
    "import pandas as pd\n",
    "top_k = 50\n",
    "records = []\n",
    "for r in rules[:top_k]:\n",
    "    records.append({\n",
    "        'antecedent': ';'.join(sorted(list(r['antecedent']))),\n",
    "        'consequent': ';'.join(sorted(list(r['consequent']))),\n",
    "        'support': r['support'],\n",
    "        'confidence': r['confidence'],\n",
    "        'lift': r['lift']\n",
    "    })\n",
    "df_rules = pd.DataFrame(records)\n",
    "df_rules.to_csv(\"top_association_rules.csv\", index=False)\n",
    "print(\"Exported top rules to top_association_rules.csv\")\n",
    "df_rules.head(20)"
   ]
  },
  {
   "cell_type": "code",
   "execution_count": 47,
   "id": "22e78192",
   "metadata": {},
   "outputs": [
    {
     "name": "stdout",
     "output_type": "stream",
     "text": [
      "\n",
      "Basket: ['whole milk', 'brown bread']\n"
     ]
    },
    {
     "ename": "AttributeError",
     "evalue": "'tuple' object has no attribute 'issubset'",
     "output_type": "error",
     "traceback": [
      "\u001b[31m---------------------------------------------------------------------------\u001b[39m",
      "\u001b[31mAttributeError\u001b[39m                            Traceback (most recent call last)",
      "\u001b[36mCell\u001b[39m\u001b[36m \u001b[39m\u001b[32mIn[47]\u001b[39m\u001b[32m, line 10\u001b[39m\n\u001b[32m      8\u001b[39m \u001b[38;5;28;01mfor\u001b[39;00m b \u001b[38;5;129;01min\u001b[39;00m test_baskets:\n\u001b[32m      9\u001b[39m     \u001b[38;5;28mprint\u001b[39m(\u001b[33mf\u001b[39m\u001b[33m\"\u001b[39m\u001b[38;5;130;01m\\n\u001b[39;00m\u001b[33mBasket: \u001b[39m\u001b[38;5;132;01m{\u001b[39;00mb\u001b[38;5;132;01m}\u001b[39;00m\u001b[33m\"\u001b[39m)\n\u001b[32m---> \u001b[39m\u001b[32m10\u001b[39m     recs = \u001b[43mrecommend_for_basket\u001b[49m\u001b[43m(\u001b[49m\u001b[43mb\u001b[49m\u001b[43m,\u001b[49m\u001b[43m \u001b[49m\u001b[43mrules\u001b[49m\u001b[43m)\u001b[49m\n\u001b[32m     11\u001b[39m     \u001b[38;5;28;01mfor\u001b[39;00m items, score \u001b[38;5;129;01min\u001b[39;00m recs:\n\u001b[32m     12\u001b[39m         \u001b[38;5;28mprint\u001b[39m(\u001b[33mf\u001b[39m\u001b[33m\"\u001b[39m\u001b[33m  Recommend: \u001b[39m\u001b[38;5;132;01m{\u001b[39;00mitems\u001b[38;5;132;01m}\u001b[39;00m\u001b[33m (score: \u001b[39m\u001b[38;5;132;01m{\u001b[39;00mscore\u001b[38;5;132;01m:\u001b[39;00m\u001b[33m.4f\u001b[39m\u001b[38;5;132;01m}\u001b[39;00m\u001b[33m)\u001b[39m\u001b[33m\"\u001b[39m)\n",
      "\u001b[36mCell\u001b[39m\u001b[36m \u001b[39m\u001b[32mIn[45]\u001b[39m\u001b[32m, line 6\u001b[39m, in \u001b[36mrecommend_for_basket\u001b[39m\u001b[34m(basket, rules, top_n)\u001b[39m\n\u001b[32m      4\u001b[39m candidates = {}\n\u001b[32m      5\u001b[39m \u001b[38;5;28;01mfor\u001b[39;00m r \u001b[38;5;129;01min\u001b[39;00m rules:\n\u001b[32m----> \u001b[39m\u001b[32m6\u001b[39m     \u001b[38;5;28;01mif\u001b[39;00m \u001b[43mr\u001b[49m\u001b[43m[\u001b[49m\u001b[33;43m'\u001b[39;49m\u001b[33;43mantecedent\u001b[39;49m\u001b[33;43m'\u001b[39;49m\u001b[43m]\u001b[49m\u001b[43m.\u001b[49m\u001b[43missubset\u001b[49m(basket_set):\n\u001b[32m      7\u001b[39m         conj = \u001b[38;5;28mtuple\u001b[39m(\u001b[38;5;28msorted\u001b[39m(r[\u001b[33m'\u001b[39m\u001b[33mconsequent\u001b[39m\u001b[33m'\u001b[39m]))\n\u001b[32m      8\u001b[39m         \u001b[38;5;66;03m# score by lift * confidence * support (arbitrary scoring to rank)\u001b[39;00m\n",
      "\u001b[31mAttributeError\u001b[39m: 'tuple' object has no attribute 'issubset'"
     ]
    }
   ],
   "source": [
    "test_baskets = [\n",
    "    [\"whole milk\", \"brown bread\"],\n",
    "    [\"yogurt\", \"tropical fruit\"],\n",
    "    [\"soda\", \"chips\"],\n",
    "    [\"domestic eggs\", \"bottled water\"],\n",
    "]\n",
    "\n",
    "for b in test_baskets:\n",
    "    print(f\"\\nBasket: {b}\")\n",
    "    recs = recommend_for_basket(b, rules)\n",
    "    for items, score in recs:\n",
    "        print(f\"  Recommend: {items} (score: {score:.4f})\")"
   ]
  },
  {
   "cell_type": "code",
   "execution_count": 48,
   "id": "3d3fd78e",
   "metadata": {},
   "outputs": [
    {
     "data": {
      "image/png": "[encoded data removed]",
      "text/plain": [
       "<Figure size 1200x800 with 1 Axes>"
      ]
     },
     "metadata": {},
     "output_type": "display_data"
    }
   ],
   "source": [
    "import networkx as nx\n",
    "import matplotlib.pyplot as plt\n",
    "\n",
    "def plot_rules(rules, min_lift=1.2):\n",
    "    G = nx.DiGraph()\n",
    "    for r in rules:\n",
    "        if r['lift'] >= min_lift:\n",
    "            for ant in r['antecedent']:\n",
    "                for cons in r['consequent']:\n",
    "                    G.add_edge(ant, cons, weight=r['lift'])\n",
    "    pos = nx.spring_layout(G, k=0.5)\n",
    "    plt.figure(figsize=(12, 8))\n",
    "    nx.draw(G, pos, with_labels=True, node_size=1500, node_color='lightblue', font_size=10, font_weight='bold')\n",
    "    plt.title(\"Association Rules Network (lift ≥ {:.1f})\".format(min_lift))\n",
    "    plt.show()\n",
    "\n",
    "plot_rules(rules)"
   ]
  },
  {
   "cell_type": "code",
   "execution_count": 49,
   "id": "13427776",
   "metadata": {},
   "outputs": [
    {
     "ename": "AttributeError",
     "evalue": "'tuple' object has no attribute 'issubset'",
     "output_type": "error",
     "traceback": [
      "\u001b[31m---------------------------------------------------------------------------\u001b[39m",
      "\u001b[31mAttributeError\u001b[39m                            Traceback (most recent call last)",
      "\u001b[36mCell\u001b[39m\u001b[36m \u001b[39m\u001b[32mIn[49]\u001b[39m\u001b[32m, line 16\u001b[39m\n\u001b[32m     10\u001b[39m                 hits += \u001b[32m1\u001b[39m\n\u001b[32m     11\u001b[39m     \u001b[38;5;28;01mreturn\u001b[39;00m {\n\u001b[32m     12\u001b[39m         \u001b[33m\"\u001b[39m\u001b[33mCoverage\u001b[39m\u001b[33m\"\u001b[39m: covered / total,\n\u001b[32m     13\u001b[39m         \u001b[33m\"\u001b[39m\u001b[33mHit Rate\u001b[39m\u001b[33m\"\u001b[39m: hits / covered \u001b[38;5;28;01mif\u001b[39;00m covered \u001b[38;5;28;01melse\u001b[39;00m \u001b[32m0\u001b[39m\n\u001b[32m     14\u001b[39m     }\n\u001b[32m---> \u001b[39m\u001b[32m16\u001b[39m metrics = \u001b[43mevaluate_rules\u001b[49m\u001b[43m(\u001b[49m\u001b[43mtransactions\u001b[49m\u001b[43m,\u001b[49m\u001b[43m \u001b[49m\u001b[43mrules\u001b[49m\u001b[43m)\u001b[49m\n\u001b[32m     17\u001b[39m \u001b[38;5;28mprint\u001b[39m(metrics)\n",
      "\u001b[36mCell\u001b[39m\u001b[36m \u001b[39m\u001b[32mIn[49]\u001b[39m\u001b[32m, line 5\u001b[39m, in \u001b[36mevaluate_rules\u001b[39m\u001b[34m(transactions, rules, top_n)\u001b[39m\n\u001b[32m      3\u001b[39m \u001b[38;5;28;01mfor\u001b[39;00m t \u001b[38;5;129;01min\u001b[39;00m transactions:\n\u001b[32m      4\u001b[39m     total += \u001b[32m1\u001b[39m\n\u001b[32m----> \u001b[39m\u001b[32m5\u001b[39m     recs = \u001b[43mrecommend_for_basket\u001b[49m\u001b[43m(\u001b[49m\u001b[43mt\u001b[49m\u001b[43m,\u001b[49m\u001b[43m \u001b[49m\u001b[43mrules\u001b[49m\u001b[43m,\u001b[49m\u001b[43m \u001b[49m\u001b[43mtop_n\u001b[49m\u001b[43m)\u001b[49m\n\u001b[32m      6\u001b[39m     \u001b[38;5;28;01mif\u001b[39;00m recs:\n\u001b[32m      7\u001b[39m         covered += \u001b[32m1\u001b[39m\n",
      "\u001b[36mCell\u001b[39m\u001b[36m \u001b[39m\u001b[32mIn[45]\u001b[39m\u001b[32m, line 6\u001b[39m, in \u001b[36mrecommend_for_basket\u001b[39m\u001b[34m(basket, rules, top_n)\u001b[39m\n\u001b[32m      4\u001b[39m candidates = {}\n\u001b[32m      5\u001b[39m \u001b[38;5;28;01mfor\u001b[39;00m r \u001b[38;5;129;01min\u001b[39;00m rules:\n\u001b[32m----> \u001b[39m\u001b[32m6\u001b[39m     \u001b[38;5;28;01mif\u001b[39;00m \u001b[43mr\u001b[49m\u001b[43m[\u001b[49m\u001b[33;43m'\u001b[39;49m\u001b[33;43mantecedent\u001b[39;49m\u001b[33;43m'\u001b[39;49m\u001b[43m]\u001b[49m\u001b[43m.\u001b[49m\u001b[43missubset\u001b[49m(basket_set):\n\u001b[32m      7\u001b[39m         conj = \u001b[38;5;28mtuple\u001b[39m(\u001b[38;5;28msorted\u001b[39m(r[\u001b[33m'\u001b[39m\u001b[33mconsequent\u001b[39m\u001b[33m'\u001b[39m]))\n\u001b[32m      8\u001b[39m         \u001b[38;5;66;03m# score by lift * confidence * support (arbitrary scoring to rank)\u001b[39;00m\n",
      "\u001b[31mAttributeError\u001b[39m: 'tuple' object has no attribute 'issubset'"
     ]
    }
   ],
   "source": [
    "def evaluate_rules(transactions, rules, top_n=5):\n",
    "    hits, total, covered = 0, 0, 0\n",
    "    for t in transactions:\n",
    "        total += 1\n",
    "        recs = recommend_for_basket(t, rules, top_n)\n",
    "        if recs:\n",
    "            covered += 1\n",
    "            rec_items = {i for items, _ in recs for i in items}\n",
    "            if rec_items & set(t):\n",
    "                hits += 1\n",
    "    return {\n",
    "        \"Coverage\": covered / total,\n",
    "        \"Hit Rate\": hits / covered if covered else 0\n",
    "    }\n",
    "\n",
    "metrics = evaluate_rules(transactions, rules)\n",
    "print(metrics)"
   ]
  },
  {
   "cell_type": "code",
   "execution_count": 50,
   "id": "6619f567",
   "metadata": {},
   "outputs": [
    {
     "data": {
      "image/png": "[encoded data removed]",
      "text/plain": [
       "<Figure size 800x600 with 1 Axes>"
      ]
     },
     "metadata": {},
     "output_type": "display_data"
    },
    {
     "data": {
      "image/png": "[encoded data removed]",
      "text/plain": [
       "<Figure size 1000x800 with 1 Axes>"
      ]
     },
     "metadata": {},
     "output_type": "display_data"
    },
    {
     "name": "stdout",
     "output_type": "stream",
     "text": [
      "Basket: ['whole milk', 'brown bread']\n",
      "Recommendations: [(['other vegetables'], 0.002759843487052179), (['pastry'], 0.0010668399366920494), (['root vegetables'], 0.0010052165240319393), (['newspapers'], 0.0008926067166111873)]\n"
     ]
    }
   ],
   "source": [
    "# Install mlxtend if not available\n",
    "# pip install mlxtend\n",
    "\n",
    "import pandas as pd\n",
    "from mlxtend.frequent_patterns import apriori, association_rules\n",
    "import matplotlib.pyplot as plt\n",
    "import networkx as nx\n",
    "\n",
    "# -----------------------\n",
    "# 1. Load and prepare data\n",
    "# -----------------------\n",
    "# Example CSV: transactions in one-hot encoded format\n",
    "#df = pd.read_csv(\"groceries_encoded.csv\")  # Ensure one-hot format\n",
    "\n",
    "# -----------------------\n",
    "# 2. Train model (Apriori)\n",
    "# -----------------------\n",
    "frequent_itemsets = apriori(df_encoded, min_support=0.01, use_colnames=True)\n",
    "rules_df = association_rules(frequent_itemsets, metric=\"lift\", min_threshold=1.0)\n",
    "\n",
    "# -----------------------\n",
    "# 3. Visualize Top Rules\n",
    "# -----------------------\n",
    "top_rules = rules_df.sort_values(\"lift\", ascending=False).head(20)\n",
    "\n",
    "plt.figure(figsize=(8,6))\n",
    "plt.scatter(top_rules['support'], top_rules['confidence'],\n",
    "            s=top_rules['lift']*50, alpha=0.6, edgecolors=\"k\")\n",
    "plt.xlabel(\"Support\")\n",
    "plt.ylabel(\"Confidence\")\n",
    "plt.title(\"Top 20 Association Rules\")\n",
    "for i, rule in top_rules.iterrows():\n",
    "    plt.text(rule['support'], rule['confidence'],\n",
    "             f\"{list(rule['antecedents'])} → {list(rule['consequents'])}\", fontsize=8)\n",
    "plt.show()\n",
    "\n",
    "# -----------------------\n",
    "# 4. Network Graph\n",
    "# -----------------------\n",
    "G = nx.DiGraph()\n",
    "for _, row in top_rules.iterrows():\n",
    "    for a in row['antecedents']:\n",
    "        for c in row['consequents']:\n",
    "            G.add_edge(a, c, weight=row['lift'])\n",
    "\n",
    "plt.figure(figsize=(10,8))\n",
    "pos = nx.spring_layout(G, k=0.5)\n",
    "nx.draw(G, pos, with_labels=True, node_size=2000, node_color=\"lightblue\", arrowsize=15)\n",
    "labels = nx.get_edge_attributes(G,'weight')\n",
    "nx.draw_networkx_edge_labels(G, pos, edge_labels={k: f\"{v:.2f}\" for k,v in labels.items()})\n",
    "plt.title(\"Top Association Rules Network\")\n",
    "plt.show()\n",
    "\n",
    "# -----------------------\n",
    "# 5. Simple Recommendation Function\n",
    "# -----------------------\n",
    "def recommend_for_basket(basket, rules, top_n=5):\n",
    "    basket_set = set(basket)\n",
    "    candidates = {}\n",
    "    for _, r in rules.iterrows():\n",
    "        if r['antecedents'].issubset(basket_set):\n",
    "            conj = tuple(sorted(r['consequents']))\n",
    "            score = r['lift'] * r['confidence'] * r['support']\n",
    "            candidates[conj] = max(candidates.get(conj, 0), score)\n",
    "    out = sorted(candidates.items(), key=lambda x: x[1], reverse=True)[:top_n]\n",
    "    return [(list(k), v) for k, v in out]\n",
    "\n",
    "# -----------------------\n",
    "# 6. Test Example Basket\n",
    "# -----------------------\n",
    "basket = [\"whole milk\", \"brown bread\"]\n",
    "recommendations = recommend_for_basket(basket, rules_df)\n",
    "print(\"Basket:\", basket)\n",
    "print(\"Recommendations:\", recommendations)"
   ]
  },
  {
   "cell_type": "code",
   "execution_count": null,
   "id": "cd614bd5",
   "metadata": {},
   "outputs": [],
   "source": []
  }
 ],
 "metadata": {
  "kernelspec": {
   "display_name": "Python 3",
   "language": "python",
   "name": "python3"
  },
  "language_info": {
   "codemirror_mode": {
    "name": "ipython",
    "version": 3
   },
   "file_extension": ".py",
   "mimetype": "text/x-python",
   "name": "python",
   "nbconvert_exporter": "python",
   "pygments_lexer": "ipython3",
   "version": "3.13.5"
  }
 },
 "nbformat": 4,
 "nbformat_minor": 5
}
