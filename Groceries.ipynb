{
 "cells": [
  {
   "cell_type": "markdown",
   "id": "f39dac94",
   "metadata": {},
   "source": [
    "### 1. Import Dependencies"
   ]
  },
  {
   "cell_type": "code",
   "execution_count": 2,
   "id": "62800643",
   "metadata": {},
   "outputs": [],
   "source": [
    "import pandas as pd"
   ]
  },
  {
   "cell_type": "markdown",
   "id": "c52f0cb9",
   "metadata": {},
   "source": [
    "### 2. Load Dataset"
   ]
  },
  {
   "cell_type": "code",
   "execution_count": null,
   "id": "9df4c68b",
   "metadata": {},
   "outputs": [],
   "source": [
    "df = pd.read_csv('groceries.csv', on_bad_lines='skip') # Read the CSV file, skipping bad lines"
   ]
  },
  {
   "cell_type": "code",
   "execution_count": 8,
   "id": "cf39205a",
   "metadata": {},
   "outputs": [
    {
     "name": "stdout",
     "output_type": "stream",
     "text": [
      "raw df shape: (6105, 4)\n"
     ]
    }
   ],
   "source": [
    "print(\"raw df shape:\", df.shape)"
   ]
  },
  {
   "cell_type": "code",
   "execution_count": 9,
   "id": "4d78041a",
   "metadata": {},
   "outputs": [
    {
     "name": "stdout",
     "output_type": "stream",
     "text": [
      "raw df columns preview: ['citrus fruit', 'semi-finished bread', 'margarine', 'ready soups']\n"
     ]
    },
    {
     "data": {
      "application/vnd.microsoft.datawrangler.viewer.v0+json": {
       "columns": [
        {
         "name": "index",
         "rawType": "int64",
         "type": "integer"
        },
        {
         "name": "citrus fruit",
         "rawType": "object",
         "type": "string"
        },
        {
         "name": "semi-finished bread",
         "rawType": "object",
         "type": "unknown"
        },
        {
         "name": "margarine",
         "rawType": "object",
         "type": "unknown"
        },
        {
         "name": "ready soups",
         "rawType": "object",
         "type": "unknown"
        }
       ],
       "ref": "2033280e-7173-4a40-9236-b5894d5e6094",
       "rows": [
        [
         "0",
         "tropical fruit",
         "yogurt",
         "coffee",
         null
        ],
        [
         "1",
         "whole milk",
         null,
         null,
         null
        ],
        [
         "2",
         "pip fruit",
         "yogurt",
         "cream cheese ",
         "meat spreads"
        ],
        [
         "3",
         "other vegetables",
         "whole milk",
         "condensed milk",
         "long life bakery product"
        ],
        [
         "4",
         "rolls/buns",
         null,
         null,
         null
        ],
        [
         "5",
         "pot plants",
         null,
         null,
         null
        ],
        [
         "6",
         "whole milk",
         "cereals",
         null,
         null
        ],
        [
         "7",
         "beef",
         null,
         null,
         null
        ],
        [
         "8",
         "frankfurter",
         "rolls/buns",
         "soda",
         null
        ],
        [
         "9",
         "chicken",
         "tropical fruit",
         null,
         null
        ]
       ],
       "shape": {
        "columns": 4,
        "rows": 10
       }
      },
      "text/html": [
       "<div>\n",
       "<style scoped>\n",
       "    .dataframe tbody tr th:only-of-type {\n",
       "        vertical-align: middle;\n",
       "    }\n",
       "\n",
       "    .dataframe tbody tr th {\n",
       "        vertical-align: top;\n",
       "    }\n",
       "\n",
       "    .dataframe thead th {\n",
       "        text-align: right;\n",
       "    }\n",
       "</style>\n",
       "<table border=\"1\" class=\"dataframe\">\n",
       "  <thead>\n",
       "    <tr style=\"text-align: right;\">\n",
       "      <th></th>\n",
       "      <th>citrus fruit</th>\n",
       "      <th>semi-finished bread</th>\n",
       "      <th>margarine</th>\n",
       "      <th>ready soups</th>\n",
       "    </tr>\n",
       "  </thead>\n",
       "  <tbody>\n",
       "    <tr>\n",
       "      <th>0</th>\n",
       "      <td>tropical fruit</td>\n",
       "      <td>yogurt</td>\n",
       "      <td>coffee</td>\n",
       "      <td>NaN</td>\n",
       "    </tr>\n",
       "    <tr>\n",
       "      <th>1</th>\n",
       "      <td>whole milk</td>\n",
       "      <td>NaN</td>\n",
       "      <td>NaN</td>\n",
       "      <td>NaN</td>\n",
       "    </tr>\n",
       "    <tr>\n",
       "      <th>2</th>\n",
       "      <td>pip fruit</td>\n",
       "      <td>yogurt</td>\n",
       "      <td>cream cheese</td>\n",
       "      <td>meat spreads</td>\n",
       "    </tr>\n",
       "    <tr>\n",
       "      <th>3</th>\n",
       "      <td>other vegetables</td>\n",
       "      <td>whole milk</td>\n",
       "      <td>condensed milk</td>\n",
       "      <td>long life bakery product</td>\n",
       "    </tr>\n",
       "    <tr>\n",
       "      <th>4</th>\n",
       "      <td>rolls/buns</td>\n",
       "      <td>NaN</td>\n",
       "      <td>NaN</td>\n",
       "      <td>NaN</td>\n",
       "    </tr>\n",
       "    <tr>\n",
       "      <th>5</th>\n",
       "      <td>pot plants</td>\n",
       "      <td>NaN</td>\n",
       "      <td>NaN</td>\n",
       "      <td>NaN</td>\n",
       "    </tr>\n",
       "    <tr>\n",
       "      <th>6</th>\n",
       "      <td>whole milk</td>\n",
       "      <td>cereals</td>\n",
       "      <td>NaN</td>\n",
       "      <td>NaN</td>\n",
       "    </tr>\n",
       "    <tr>\n",
       "      <th>7</th>\n",
       "      <td>beef</td>\n",
       "      <td>NaN</td>\n",
       "      <td>NaN</td>\n",
       "      <td>NaN</td>\n",
       "    </tr>\n",
       "    <tr>\n",
       "      <th>8</th>\n",
       "      <td>frankfurter</td>\n",
       "      <td>rolls/buns</td>\n",
       "      <td>soda</td>\n",
       "      <td>NaN</td>\n",
       "    </tr>\n",
       "    <tr>\n",
       "      <th>9</th>\n",
       "      <td>chicken</td>\n",
       "      <td>tropical fruit</td>\n",
       "      <td>NaN</td>\n",
       "      <td>NaN</td>\n",
       "    </tr>\n",
       "  </tbody>\n",
       "</table>\n",
       "</div>"
      ],
      "text/plain": [
       "       citrus fruit semi-finished bread       margarine  \\\n",
       "0    tropical fruit              yogurt          coffee   \n",
       "1        whole milk                 NaN             NaN   \n",
       "2         pip fruit              yogurt   cream cheese    \n",
       "3  other vegetables          whole milk  condensed milk   \n",
       "4        rolls/buns                 NaN             NaN   \n",
       "5        pot plants                 NaN             NaN   \n",
       "6        whole milk             cereals             NaN   \n",
       "7              beef                 NaN             NaN   \n",
       "8       frankfurter          rolls/buns            soda   \n",
       "9           chicken      tropical fruit             NaN   \n",
       "\n",
       "                ready soups  \n",
       "0                       NaN  \n",
       "1                       NaN  \n",
       "2              meat spreads  \n",
       "3  long life bakery product  \n",
       "4                       NaN  \n",
       "5                       NaN  \n",
       "6                       NaN  \n",
       "7                       NaN  \n",
       "8                       NaN  \n",
       "9                       NaN  "
      ]
     },
     "metadata": {},
     "output_type": "display_data"
    }
   ],
   "source": [
    "print(\"raw df columns preview:\", list(df.columns)[:10])\n",
    "display(df.head(10))"
   ]
  },
  {
   "cell_type": "code",
   "execution_count": 10,
   "id": "afd70b1e",
   "metadata": {},
   "outputs": [],
   "source": [
    "def normalize_item(s):\n",
    "    return s.strip().lower()"
   ]
  },
  {
   "cell_type": "code",
   "execution_count": 13,
   "id": "a89a3c05",
   "metadata": {},
   "outputs": [
    {
     "name": "stdout",
     "output_type": "stream",
     "text": [
      "Detected multi-column CSV. Columns (lowercased): ['citrus fruit', 'semi-finished bread', 'margarine', 'ready soups']\n",
      "possible tx cols: [] possible customer cols: [] possible item cols: []\n",
      "Could not confidently detect transaction structure — falling back to join non-null columns per row.\n"
     ]
    }
   ],
   "source": [
    "# CASE A: single-column where each row is comma-separated item list\n",
    "if df.shape[1] == 1:\n",
    "    print(\"Detected single-column (one transaction per row). Parsing comma-separated items.\")\n",
    "    transactions = df[0].dropna().astype(str).apply(\n",
    "        lambda x: [normalize_item(i) for i in x.split(',') if i.strip() != \"\"]\n",
    "    ).tolist()\n",
    "    # CASE B: long format (one item per row) with transaction/customer id columns\n",
    "else:\n",
    "    cols = [str(c).lower() for c in df.columns]\n",
    "    print(\"Detected multi-column CSV. Columns (lowercased):\", cols)\n",
    "    # try to find common column names\n",
    "    tx_cols = [c for c in df.columns if any(k in str(c).lower() for k in ['transaction','trans','invoice','order','receipt','id'])]\n",
    "    cust_cols = [c for c in df.columns if any(k in str(c).lower() for k in ['member','customer','cust','user'])]\n",
    "    item_cols = [c for c in df.columns if any(k in str(c).lower() for k in ['item','product','description','itemdescription','productdescription'])]\n",
    "    print(\"possible tx cols:\", tx_cols, \"possible customer cols:\", cust_cols, \"possible item cols:\", item_cols)\n",
    "\n",
    "    if tx_cols and item_cols:\n",
    "        tx_col = tx_cols[0]\n",
    "        item_col = item_cols[0]\n",
    "        grouped = df[[tx_col, item_col]].dropna()\n",
    "        transactions = grouped.groupby(tx_col)[item_col].apply(\n",
    "            lambda x: [normalize_item(str(i)) for i in x]\n",
    "        ).tolist()\n",
    "    elif cust_cols and 'date' in cols and item_cols:\n",
    "        # common Kaggle long-format: Member_number, Date, itemDescription\n",
    "        tx_key = [cust_cols[0], [c for c in df.columns if 'date' in str(c).lower()][0]]\n",
    "        item_col = item_cols[0]\n",
    "        grouped = df.groupby([cust_cols[0], tx_key[1]])[item_col].apply(lambda x: [normalize_item(str(i)) for i in x])\n",
    "        transactions = grouped.tolist()\n",
    "    else:\n",
    "        # fallback: try treat each row as transaction by joining all non-null columns\n",
    "        print(\"Could not confidently detect transaction structure — falling back to join non-null columns per row.\")\n",
    "        transactions = df.fillna('').astype(str).apply(lambda r: [normalize_item(x) for x in r.tolist() if x.strip()!=''], axis=1).tolist()"
   ]
  },
  {
   "cell_type": "code",
   "execution_count": 14,
   "id": "ceaa011e",
   "metadata": {},
   "outputs": [
    {
     "name": "stdout",
     "output_type": "stream",
     "text": [
      "\n",
      "Parsed transactions: 6105\n",
      "Unique items (parsed): 165\n",
      "Top 20 items by frequency:\n"
     ]
    },
    {
     "name": "stderr",
     "output_type": "stream",
     "text": [
      "/var/folders/7c/gq0bcsjx4z5518py08krjc880000gn/T/ipykernel_37705/1909183862.py:5: FutureWarning: unique with argument that is not not a Series, Index, ExtensionArray, or np.ndarray is deprecated and will raise in a future version.\n",
      "  transactions = [[itm for itm in pd.unique(tx)] for tx in transactions if len(tx) > 0]\n"
     ]
    }
   ],
   "source": [
    "# final basic clean: remove empty tx and remove duplicates within transaction (presence-only)\n",
    "from collections import Counter\n",
    "\n",
    "\n",
    "transactions = [[itm for itm in pd.unique(tx)] for tx in transactions if len(tx) > 0]\n",
    "\n",
    "# Summaries\n",
    "n_transactions = len(transactions)\n",
    "all_items = [i for tx in transactions for i in tx]\n",
    "unique_items = set(all_items)\n",
    "freq = Counter(all_items)\n",
    "\n",
    "print(f\"\\nParsed transactions: {n_transactions}\")\n",
    "print(f\"Unique items (parsed): {len(unique_items)}\")\n",
    "print(\"Top 20 items by frequency:\")\n"
   ]
  },
  {
   "cell_type": "code",
   "execution_count": null,
   "id": "e3433aaa",
   "metadata": {},
   "outputs": [
    {
     "name": "stdout",
     "output_type": "stream",
     "text": [
      "  whole milk: 859\n",
      "  soda: 773\n",
      "  rolls/buns: 770\n",
      "  other vegetables: 531\n",
      "  canned beer: 502\n",
      "  bottled water: 406\n",
      "  bottled beer: 406\n",
      "  yogurt: 384\n",
      "  pastry: 308\n",
      "  newspapers: 296\n",
      "  shopping bags: 296\n",
      "  sausage: 294\n",
      "  tropical fruit: 243\n",
      "  root vegetables: 227\n",
      "  citrus fruit: 207\n",
      "  coffee: 206\n",
      "  brown bread: 195\n",
      "  pip fruit: 189\n",
      "  fruit/vegetable juice: 186\n",
      "  frankfurter: 176\n"
     ]
    }
   ],
   "source": [
    "# Display top 20 items by frequency\n",
    "for item, cnt in freq.most_common(20):\n",
    "    print(f\"  {item}: {cnt}\")"
   ]
  },
  {
   "cell_type": "code",
   "execution_count": 18,
   "id": "b035fa8b",
   "metadata": {},
   "outputs": [
    {
     "name": "stdout",
     "output_type": "stream",
     "text": [
      "\n",
      "Items that appear exactly once:\n",
      "  salad dressing\n",
      "  toilet cleaner\n",
      "  kitchen utensil\n",
      "  ready soups\n"
     ]
    }
   ],
   "source": [
    "# Rare items\n",
    "rare_items = [item for item, c in freq.items() if c == 1]\n",
    "\n",
    "# show items that apear once by name\n",
    "print(\"\\nItems that appear exactly once:\")\n",
    "for item in rare_items:\n",
    "    print(f\"  {item}\")"
   ]
  },
  {
   "cell_type": "code",
   "execution_count": 19,
   "id": "97cd553c",
   "metadata": {},
   "outputs": [
    {
     "name": "stdout",
     "output_type": "stream",
     "text": [
      "\n",
      "Sample parsed transactions (first 5):\n",
      "1 ['tropical fruit', 'yogurt', 'coffee']\n",
      "2 ['whole milk']\n",
      "3 ['pip fruit', 'yogurt', 'cream cheese', 'meat spreads']\n",
      "4 ['other vegetables', 'whole milk', 'condensed milk', 'long life bakery product']\n",
      "5 ['rolls/buns']\n"
     ]
    }
   ],
   "source": [
    "# show 5 sample transactions\n",
    "print(\"\\nSample parsed transactions (first 5):\")\n",
    "for i, tx in enumerate(transactions[:5], 1):\n",
    "    print(i, tx)"
   ]
  },
  {
   "cell_type": "code",
   "execution_count": null,
   "id": "37a5d797",
   "metadata": {},
   "outputs": [],
   "source": []
  }
 ],
 "metadata": {
  "kernelspec": {
   "display_name": "Python 3",
   "language": "python",
   "name": "python3"
  },
  "language_info": {
   "codemirror_mode": {
    "name": "ipython",
    "version": 3
   },
   "file_extension": ".py",
   "mimetype": "text/x-python",
   "name": "python",
   "nbconvert_exporter": "python",
   "pygments_lexer": "ipython3",
   "version": "3.13.5"
  }
 },
 "nbformat": 4,
 "nbformat_minor": 5
}
